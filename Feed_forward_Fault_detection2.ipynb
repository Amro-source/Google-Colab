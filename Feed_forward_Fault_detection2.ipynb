{
  "nbformat": 4,
  "nbformat_minor": 0,
  "metadata": {
    "colab": {
      "name": "Feed forward Fault detection.ipynb",
      "provenance": [],
      "authorship_tag": "ABX9TyPMlWyyh26ksltZ/4d0oq8n",
      "include_colab_link": true
    },
    "kernelspec": {
      "name": "python3",
      "display_name": "Python 3"
    }
  },
  "cells": [
    {
      "cell_type": "markdown",
      "metadata": {
        "id": "view-in-github",
        "colab_type": "text"
      },
      "source": [
        "<a href=\"https://colab.research.google.com/github/Amro-source/Google-Colab/blob/main/Feed_forward_Fault_detection2.ipynb\" target=\"_parent\"><img src=\"https://colab.research.google.com/assets/colab-badge.svg\" alt=\"Open In Colab\"/></a>"
      ]
    },
    {
      "cell_type": "code",
      "metadata": {
        "id": "ZBP9taL7vT68",
        "outputId": "f7f0f473-ea69-42a7-e2df-d837e4608dbb",
        "colab": {
          "base_uri": "https://localhost:8080/",
          "height": 34
        }
      },
      "source": [
        "# Setup plotting\n",
        "import matplotlib.pyplot as plt\n",
        "\n",
        "plt.style.use('seaborn-whitegrid')\n",
        "# Set Matplotlib defaults\n",
        "plt.rc('figure', autolayout=True)\n",
        "plt.rc('axes', labelweight='bold', labelsize='large',\n",
        "       titleweight='bold', titlesize=18, titlepad=10)\n",
        "\n",
        "# Setup feedback system\n",
        "#from learntools.core import binder\n",
        "#binder.bind(globals())\n",
        "#from learntools.deep_learning_intro.ex1 import *\n",
        "\n",
        "\n",
        "import pandas as pd\n",
        "\n",
        "Prony = pd.read_csv('sample_data/PoutProny.csv', header=None)\n",
        "Prony.head()\n",
        "\n",
        "Prony.shape # (rows, columns)\n"
      ],
      "execution_count": 40,
      "outputs": [
        {
          "output_type": "execute_result",
          "data": {
            "text/plain": [
              "(3960, 4)"
            ]
          },
          "metadata": {
            "tags": []
          },
          "execution_count": 40
        }
      ]
    },
    {
      "cell_type": "code",
      "metadata": {
        "id": "c1CK4Rc3x0hh"
      },
      "source": [
        ""
      ],
      "execution_count": null,
      "outputs": []
    },
    {
      "cell_type": "code",
      "metadata": {
        "id": "E6IkcLqpypmz"
      },
      "source": [
        "\n",
        "\n",
        "class2=Prony[362:721]\n",
        "\n",
        "\n",
        "\n",
        "slice=Prony.iloc[:, 0:3]\n",
        "\n",
        "#print(slice)\n",
        "\n",
        "slice2=Prony.iloc[0:360,:]\n",
        "\n",
        "slice2.shape\n",
        "\n",
        "A=slice2.iloc[0:2,:]\n",
        "\n",
        "#print(A.shape)\n",
        "\n",
        "\n",
        "class0=Prony.iloc[0:360,:]\n",
        "\n",
        "class1=Prony.iloc[360:720,:]\n",
        "\n",
        "#class1.head\n",
        "#class1.shape\n",
        "\n",
        "\n",
        "\n",
        "class2=Prony.iloc[720:,:]\n",
        "\n",
        "fruits=11\n",
        "\n",
        "my_labels = [0,1,2,3,4,5,6,7,8,9,10]\n",
        "\n",
        "trainY=[];\n",
        "for x in range(1,11):\n",
        "  print(x*360)\n",
        "  idx=x*360\n",
        "  label=x\n",
        "  #my_labels=[my_labels,x]\n",
        "  print(label)\n",
        "  tmpclass=Prony.iloc[idx:idx+360,:]\n",
        "  print(tmpclass.shape)\n",
        "\n",
        "for q in my_labels:  \n",
        "\n",
        "  for y in range(360):\n",
        "    print(q)\n",
        "    trainY.append(q)\n"
      ],
      "execution_count": null,
      "outputs": []
    },
    {
      "cell_type": "code",
      "metadata": {
        "id": "GkjiVFR4Uc8a",
        "outputId": "5ac135ea-a55a-4e79-fcf7-71f120652775",
        "colab": {
          "base_uri": "https://localhost:8080/",
          "height": 51
        }
      },
      "source": [
        "#print(trainY)\n",
        "import numpy as np\n",
        "trainy=np.array(trainY)\n",
        "print(trainy.shape)\n",
        "print(trainy)"
      ],
      "execution_count": 87,
      "outputs": [
        {
          "output_type": "stream",
          "text": [
            "(3960,)\n",
            "[ 0  0  0 ... 10 10 10]\n"
          ],
          "name": "stdout"
        }
      ]
    },
    {
      "cell_type": "code",
      "metadata": {
        "id": "gpXKBnAlRZyr",
        "outputId": "86a7c901-33ab-4b6e-9f76-e537b74e15bd",
        "colab": {
          "base_uri": "https://localhost:8080/",
          "height": 34
        }
      },
      "source": [
        "print(my_labels)"
      ],
      "execution_count": 76,
      "outputs": [
        {
          "output_type": "stream",
          "text": [
            "[0, 1, 2, 3, 4, 5, 6, 7, 8, 9, 10]\n"
          ],
          "name": "stdout"
        }
      ]
    },
    {
      "cell_type": "code",
      "metadata": {
        "id": "2J7UvsJ_wOB7",
        "outputId": "dcf8e179-0c72-4f15-b383-ef7cef3328d5",
        "colab": {
          "base_uri": "https://localhost:8080/",
          "height": 204
        }
      },
      "source": [
        "Prony.head()"
      ],
      "execution_count": 41,
      "outputs": [
        {
          "output_type": "execute_result",
          "data": {
            "text/html": [
              "<div>\n",
              "<style scoped>\n",
              "    .dataframe tbody tr th:only-of-type {\n",
              "        vertical-align: middle;\n",
              "    }\n",
              "\n",
              "    .dataframe tbody tr th {\n",
              "        vertical-align: top;\n",
              "    }\n",
              "\n",
              "    .dataframe thead th {\n",
              "        text-align: right;\n",
              "    }\n",
              "</style>\n",
              "<table border=\"1\" class=\"dataframe\">\n",
              "  <thead>\n",
              "    <tr style=\"text-align: right;\">\n",
              "      <th></th>\n",
              "      <th>0</th>\n",
              "      <th>1</th>\n",
              "      <th>2</th>\n",
              "      <th>3</th>\n",
              "    </tr>\n",
              "  </thead>\n",
              "  <tbody>\n",
              "    <tr>\n",
              "      <th>0</th>\n",
              "      <td>-1.730628</td>\n",
              "      <td>0.767133</td>\n",
              "      <td>7.898820e+12</td>\n",
              "      <td>93252479.70</td>\n",
              "    </tr>\n",
              "    <tr>\n",
              "      <th>1</th>\n",
              "      <td>-1.728982</td>\n",
              "      <td>0.765516</td>\n",
              "      <td>7.909490e+12</td>\n",
              "      <td>93284910.87</td>\n",
              "    </tr>\n",
              "    <tr>\n",
              "      <th>2</th>\n",
              "      <td>-1.731491</td>\n",
              "      <td>0.767997</td>\n",
              "      <td>7.953780e+12</td>\n",
              "      <td>93548776.25</td>\n",
              "    </tr>\n",
              "    <tr>\n",
              "      <th>3</th>\n",
              "      <td>-1.733191</td>\n",
              "      <td>0.769710</td>\n",
              "      <td>8.059320e+12</td>\n",
              "      <td>94181518.77</td>\n",
              "    </tr>\n",
              "    <tr>\n",
              "      <th>4</th>\n",
              "      <td>-1.736536</td>\n",
              "      <td>0.773041</td>\n",
              "      <td>8.134710e+12</td>\n",
              "      <td>94616465.37</td>\n",
              "    </tr>\n",
              "  </tbody>\n",
              "</table>\n",
              "</div>"
            ],
            "text/plain": [
              "          0         1             2            3\n",
              "0 -1.730628  0.767133  7.898820e+12  93252479.70\n",
              "1 -1.728982  0.765516  7.909490e+12  93284910.87\n",
              "2 -1.731491  0.767997  7.953780e+12  93548776.25\n",
              "3 -1.733191  0.769710  8.059320e+12  94181518.77\n",
              "4 -1.736536  0.773041  8.134710e+12  94616465.37"
            ]
          },
          "metadata": {
            "tags": []
          },
          "execution_count": 41
        }
      ]
    },
    {
      "cell_type": "code",
      "metadata": {
        "id": "USpeVs6-Wo4B",
        "outputId": "cf0a7987-0ea1-4046-d438-b5caaa8e8511",
        "colab": {
          "base_uri": "https://localhost:8080/",
          "height": 34
        }
      },
      "source": [
        "#Dependencies\n",
        "import keras\n",
        "from keras.models import Sequential\n",
        "from keras.layers import Dense\n",
        "# Neural network\n",
        "model = Sequential()\n",
        "model.add(Dense(21, input_dim=4, activation='relu'))\n",
        "model.add(Dense(11, activation='relu'))\n",
        "#model.add(Dense(4, activation='softmax'))\n",
        "\n",
        "\n",
        "model.summary"
      ],
      "execution_count": 92,
      "outputs": [
        {
          "output_type": "execute_result",
          "data": {
            "text/plain": [
              "<bound method Model.summary of <tensorflow.python.keras.engine.sequential.Sequential object at 0x7f491a8e44e0>>"
            ]
          },
          "metadata": {
            "tags": []
          },
          "execution_count": 92
        }
      ]
    },
    {
      "cell_type": "code",
      "metadata": {
        "id": "oR_61OSA_69X"
      },
      "source": [
        "from tensorflow import keras\n",
        "from tensorflow.keras import layers\n",
        "\n",
        "# YOUR CODE HERE\n",
        "#model = ____\n",
        "\n",
        "from tensorflow import keras\n",
        "from tensorflow.keras import layers\n",
        "\n",
        "model = keras.Sequential([\n",
        "    layers.Dense(units=1, input_shape=[4])\n",
        "])\n",
        "\n",
        "\n",
        "# YOUR CODE HERE\n",
        "w, b = model.weights"
      ],
      "execution_count": 33,
      "outputs": []
    },
    {
      "cell_type": "code",
      "metadata": {
        "id": "jwcwDCfdAqOV",
        "outputId": "d951ab69-08d7-49a3-a55a-1d18ec727939",
        "colab": {
          "base_uri": "https://localhost:8080/",
          "height": 68
        }
      },
      "source": [
        "print(A)"
      ],
      "execution_count": 34,
      "outputs": [
        {
          "output_type": "stream",
          "text": [
            "          0         1             2            3\n",
            "0 -1.730628  0.767133  7.898820e+12  93252479.70\n",
            "1 -1.728982  0.765516  7.909490e+12  93284910.87\n"
          ],
          "name": "stdout"
        }
      ]
    },
    {
      "cell_type": "code",
      "metadata": {
        "id": "f-ZiXJ4LBiac",
        "outputId": "9aa71403-7099-4ff2-f806-3bccb68f3f8d",
        "colab": {
          "base_uri": "https://localhost:8080/",
          "height": 102
        }
      },
      "source": [
        "B=slice2.iloc[359,:]\n",
        "print(B)\n",
        "\n"
      ],
      "execution_count": 35,
      "outputs": [
        {
          "output_type": "stream",
          "text": [
            "0   -1.480746e+00\n",
            "1    5.218340e-01\n",
            "2    1.027730e+13\n",
            "3    1.122910e+08\n",
            "Name: 359, dtype: float64\n"
          ],
          "name": "stdout"
        }
      ]
    },
    {
      "cell_type": "code",
      "metadata": {
        "id": "MAomEIF3CDv-",
        "outputId": "2dc8e5bd-3e7d-4656-ad0e-be7fa8ca1b1b",
        "colab": {
          "base_uri": "https://localhost:8080/",
          "height": 34
        }
      },
      "source": [
        "print(slice2.shape)"
      ],
      "execution_count": 36,
      "outputs": [
        {
          "output_type": "stream",
          "text": [
            "(360, 4)\n"
          ],
          "name": "stdout"
        }
      ]
    },
    {
      "cell_type": "code",
      "metadata": {
        "id": "YqkYwCWIDde6",
        "outputId": "7800bde5-0176-44c1-9be1-f7a8d19d2fad",
        "colab": {
          "base_uri": "https://localhost:8080/",
          "height": 34
        }
      },
      "source": [
        "print(class1.shape)"
      ],
      "execution_count": 56,
      "outputs": [
        {
          "output_type": "stream",
          "text": [
            "(360, 4)\n"
          ],
          "name": "stdout"
        }
      ]
    },
    {
      "cell_type": "code",
      "metadata": {
        "id": "gegPErxDEPen",
        "outputId": "383c421c-2feb-4830-b836-f1b00ebaee80",
        "colab": {
          "base_uri": "https://localhost:8080/",
          "height": 102
        }
      },
      "source": [
        "QQQ=class1.iloc[0,:]\n",
        "print(QQQ)"
      ],
      "execution_count": 57,
      "outputs": [
        {
          "output_type": "stream",
          "text": [
            "0   -1.784701e+00\n",
            "1    8.192394e-01\n",
            "2    4.627820e+12\n",
            "3    7.214163e+07\n",
            "Name: 360, dtype: float64\n"
          ],
          "name": "stdout"
        }
      ]
    },
    {
      "cell_type": "code",
      "metadata": {
        "id": "vZg-C0jYHm5e",
        "outputId": "f996130a-6bcd-4226-89e1-455749f8f744",
        "colab": {
          "base_uri": "https://localhost:8080/",
          "height": 102
        }
      },
      "source": [
        "QQQ1=class1.iloc[359,:]\n",
        "print(QQQ1)"
      ],
      "execution_count": 60,
      "outputs": [
        {
          "output_type": "stream",
          "text": [
            "0   -1.547201e+00\n",
            "1    5.842028e-01\n",
            "2    5.413320e+12\n",
            "3    8.203750e+07\n",
            "Name: 719, dtype: float64\n"
          ],
          "name": "stdout"
        }
      ]
    }
  ]
}