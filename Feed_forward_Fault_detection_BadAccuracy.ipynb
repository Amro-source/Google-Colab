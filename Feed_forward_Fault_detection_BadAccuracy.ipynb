{
  "nbformat": 4,
  "nbformat_minor": 0,
  "metadata": {
    "colab": {
      "name": "Feed forward Fault detection.ipynb",
      "provenance": [],
      "authorship_tag": "ABX9TyMjgOoqCAl5N64Hqf4hXso7",
      "include_colab_link": true
    },
    "kernelspec": {
      "name": "python3",
      "display_name": "Python 3"
    }
  },
  "cells": [
    {
      "cell_type": "markdown",
      "metadata": {
        "id": "view-in-github",
        "colab_type": "text"
      },
      "source": [
        "<a href=\"https://colab.research.google.com/github/Amro-source/Google-Colab/blob/main/Feed_forward_Fault_detection_BadAccuracy.ipynb\" target=\"_parent\"><img src=\"https://colab.research.google.com/assets/colab-badge.svg\" alt=\"Open In Colab\"/></a>"
      ]
    },
    {
      "cell_type": "code",
      "metadata": {
        "id": "ZBP9taL7vT68",
        "outputId": "f7f0f473-ea69-42a7-e2df-d837e4608dbb",
        "colab": {
          "base_uri": "https://localhost:8080/",
          "height": 34
        }
      },
      "source": [
        "# Setup plotting\n",
        "import matplotlib.pyplot as plt\n",
        "\n",
        "plt.style.use('seaborn-whitegrid')\n",
        "# Set Matplotlib defaults\n",
        "plt.rc('figure', autolayout=True)\n",
        "plt.rc('axes', labelweight='bold', labelsize='large',\n",
        "       titleweight='bold', titlesize=18, titlepad=10)\n",
        "\n",
        "# Setup feedback system\n",
        "#from learntools.core import binder\n",
        "#binder.bind(globals())\n",
        "#from learntools.deep_learning_intro.ex1 import *\n",
        "\n",
        "\n",
        "import pandas as pd\n",
        "\n",
        "Prony = pd.read_csv('sample_data/PoutProny.csv', header=None)\n",
        "Prony.head()\n",
        "\n",
        "Prony.shape # (rows, columns)\n"
      ],
      "execution_count": 40,
      "outputs": [
        {
          "output_type": "execute_result",
          "data": {
            "text/plain": [
              "(3960, 4)"
            ]
          },
          "metadata": {
            "tags": []
          },
          "execution_count": 40
        }
      ]
    },
    {
      "cell_type": "code",
      "metadata": {
        "id": "c1CK4Rc3x0hh"
      },
      "source": [
        ""
      ],
      "execution_count": null,
      "outputs": []
    },
    {
      "cell_type": "code",
      "metadata": {
        "id": "E6IkcLqpypmz"
      },
      "source": [
        "\n",
        "\n",
        "class2=Prony[362:721]\n",
        "\n",
        "\n",
        "\n",
        "slice=Prony.iloc[:, 0:3]\n",
        "\n",
        "#print(slice)\n",
        "\n",
        "slice2=Prony.iloc[0:360,:]\n",
        "\n",
        "slice2.shape\n",
        "\n",
        "A=slice2.iloc[0:2,:]\n",
        "\n",
        "#print(A.shape)\n",
        "\n",
        "\n",
        "class0=Prony.iloc[0:360,:]\n",
        "\n",
        "class1=Prony.iloc[360:720,:]\n",
        "\n",
        "#class1.head\n",
        "#class1.shape\n",
        "\n",
        "\n",
        "\n",
        "class2=Prony.iloc[720:,:]\n",
        "\n",
        "fruits=11\n",
        "\n",
        "my_labels = [0,1,2,3,4,5,6,7,8,9,10]\n",
        "\n",
        "trainY=[];\n",
        "for x in range(1,11):\n",
        "  print(x*360)\n",
        "  idx=x*360\n",
        "  label=x\n",
        "  #my_labels=[my_labels,x]\n",
        "  print(label)\n",
        "  tmpclass=Prony.iloc[idx:idx+360,:]\n",
        "  print(tmpclass.shape)\n",
        "\n",
        "for q in my_labels:  \n",
        "\n",
        "  for y in range(360):\n",
        "    print(q)\n",
        "    trainY.append(q)\n"
      ],
      "execution_count": null,
      "outputs": []
    },
    {
      "cell_type": "code",
      "metadata": {
        "id": "GkjiVFR4Uc8a",
        "outputId": "5ac135ea-a55a-4e79-fcf7-71f120652775",
        "colab": {
          "base_uri": "https://localhost:8080/",
          "height": 51
        }
      },
      "source": [
        "#print(trainY)\n",
        "import numpy as np\n",
        "trainy=np.array(trainY)\n",
        "print(trainy.shape)\n",
        "print(trainy)"
      ],
      "execution_count": 87,
      "outputs": [
        {
          "output_type": "stream",
          "text": [
            "(3960,)\n",
            "[ 0  0  0 ... 10 10 10]\n"
          ],
          "name": "stdout"
        }
      ]
    },
    {
      "cell_type": "code",
      "metadata": {
        "id": "hnD2V75pnG71"
      },
      "source": [
        "X=Prony\n",
        "y=trainy\n",
        "\n",
        "from keras.preprocessing.sequence import pad_sequences\n",
        "from keras.utils import to_categorical\n",
        "from keras.models import Sequential\n",
        "from keras.layers import Embedding, Dense, LSTM\n",
        "\n",
        "labels=trainy\n",
        "num_classes=11\n",
        "y = to_categorical(labels, num_classes=num_classes)\n",
        "\n",
        "\n",
        "#ohe = OneHotEncoder()\n",
        "#ohe.fit(y)\n",
        "\n",
        "#X_train, X_test, y_train, y_test = train_test_split(X, y, test_size=0.33, random_state=1)\n"
      ],
      "execution_count": 115,
      "outputs": []
    },
    {
      "cell_type": "code",
      "metadata": {
        "id": "gpXKBnAlRZyr",
        "outputId": "86a7c901-33ab-4b6e-9f76-e537b74e15bd",
        "colab": {
          "base_uri": "https://localhost:8080/",
          "height": 34
        }
      },
      "source": [
        "print(my_labels)"
      ],
      "execution_count": 76,
      "outputs": [
        {
          "output_type": "stream",
          "text": [
            "[0, 1, 2, 3, 4, 5, 6, 7, 8, 9, 10]\n"
          ],
          "name": "stdout"
        }
      ]
    },
    {
      "cell_type": "code",
      "metadata": {
        "id": "EdkqA8LouK-j",
        "outputId": "f2a84afc-7d1a-44ec-90a7-77a00ed07289",
        "colab": {
          "base_uri": "https://localhost:8080/",
          "height": 153
        }
      },
      "source": [
        "print(y.shape)\n",
        "\n",
        "y"
      ],
      "execution_count": 118,
      "outputs": [
        {
          "output_type": "stream",
          "text": [
            "(3960, 11)\n"
          ],
          "name": "stdout"
        },
        {
          "output_type": "execute_result",
          "data": {
            "text/plain": [
              "array([[1., 0., 0., ..., 0., 0., 0.],\n",
              "       [1., 0., 0., ..., 0., 0., 0.],\n",
              "       [1., 0., 0., ..., 0., 0., 0.],\n",
              "       ...,\n",
              "       [0., 0., 0., ..., 0., 0., 1.],\n",
              "       [0., 0., 0., ..., 0., 0., 1.],\n",
              "       [0., 0., 0., ..., 0., 0., 1.]], dtype=float32)"
            ]
          },
          "metadata": {
            "tags": []
          },
          "execution_count": 118
        }
      ]
    },
    {
      "cell_type": "code",
      "metadata": {
        "id": "2J7UvsJ_wOB7",
        "outputId": "dcf8e179-0c72-4f15-b383-ef7cef3328d5",
        "colab": {
          "base_uri": "https://localhost:8080/",
          "height": 204
        }
      },
      "source": [
        "Prony.head()"
      ],
      "execution_count": 41,
      "outputs": [
        {
          "output_type": "execute_result",
          "data": {
            "text/html": [
              "<div>\n",
              "<style scoped>\n",
              "    .dataframe tbody tr th:only-of-type {\n",
              "        vertical-align: middle;\n",
              "    }\n",
              "\n",
              "    .dataframe tbody tr th {\n",
              "        vertical-align: top;\n",
              "    }\n",
              "\n",
              "    .dataframe thead th {\n",
              "        text-align: right;\n",
              "    }\n",
              "</style>\n",
              "<table border=\"1\" class=\"dataframe\">\n",
              "  <thead>\n",
              "    <tr style=\"text-align: right;\">\n",
              "      <th></th>\n",
              "      <th>0</th>\n",
              "      <th>1</th>\n",
              "      <th>2</th>\n",
              "      <th>3</th>\n",
              "    </tr>\n",
              "  </thead>\n",
              "  <tbody>\n",
              "    <tr>\n",
              "      <th>0</th>\n",
              "      <td>-1.730628</td>\n",
              "      <td>0.767133</td>\n",
              "      <td>7.898820e+12</td>\n",
              "      <td>93252479.70</td>\n",
              "    </tr>\n",
              "    <tr>\n",
              "      <th>1</th>\n",
              "      <td>-1.728982</td>\n",
              "      <td>0.765516</td>\n",
              "      <td>7.909490e+12</td>\n",
              "      <td>93284910.87</td>\n",
              "    </tr>\n",
              "    <tr>\n",
              "      <th>2</th>\n",
              "      <td>-1.731491</td>\n",
              "      <td>0.767997</td>\n",
              "      <td>7.953780e+12</td>\n",
              "      <td>93548776.25</td>\n",
              "    </tr>\n",
              "    <tr>\n",
              "      <th>3</th>\n",
              "      <td>-1.733191</td>\n",
              "      <td>0.769710</td>\n",
              "      <td>8.059320e+12</td>\n",
              "      <td>94181518.77</td>\n",
              "    </tr>\n",
              "    <tr>\n",
              "      <th>4</th>\n",
              "      <td>-1.736536</td>\n",
              "      <td>0.773041</td>\n",
              "      <td>8.134710e+12</td>\n",
              "      <td>94616465.37</td>\n",
              "    </tr>\n",
              "  </tbody>\n",
              "</table>\n",
              "</div>"
            ],
            "text/plain": [
              "          0         1             2            3\n",
              "0 -1.730628  0.767133  7.898820e+12  93252479.70\n",
              "1 -1.728982  0.765516  7.909490e+12  93284910.87\n",
              "2 -1.731491  0.767997  7.953780e+12  93548776.25\n",
              "3 -1.733191  0.769710  8.059320e+12  94181518.77\n",
              "4 -1.736536  0.773041  8.134710e+12  94616465.37"
            ]
          },
          "metadata": {
            "tags": []
          },
          "execution_count": 41
        }
      ]
    },
    {
      "cell_type": "code",
      "metadata": {
        "id": "wAq7Lg1ViHyO",
        "outputId": "654256af-b495-4c1b-b76e-d6a1602cda16",
        "colab": {
          "base_uri": "https://localhost:8080/",
          "height": 407
        }
      },
      "source": [
        "x=Prony.iloc[:,0]\n",
        "y=trainy\n",
        "\n",
        "\n",
        "plt.figure(dpi=100)\n",
        "plt.plot(y, x, 'k')\n",
        "#plt.xlim(-1, 1)\n",
        "#plt.ylim(-1, 1)\n",
        "plt.xlabel(\"Input: x\")\n",
        "plt.ylabel(\"Target y\")\n",
        "#w, b = model.weights # you could also use model.get_weights() here\n",
        "#plt.title(\"Weight: {:0.2f}\\nBias: {:0.2f}\".format(w[0][0], b[0]))\n",
        "plt.show()"
      ],
      "execution_count": 107,
      "outputs": [
        {
          "output_type": "display_data",
          "data": {
            "image/png": "[encoded data removed]",
            "text/plain": [
              "<Figure size 600x400 with 1 Axes>"
            ]
          },
          "metadata": {
            "tags": []
          }
        }
      ]
    },
    {
      "cell_type": "code",
      "metadata": {
        "id": "Q104v_S2j58P"
      },
      "source": [
        ""
      ],
      "execution_count": null,
      "outputs": []
    },
    {
      "cell_type": "code",
      "metadata": {
        "id": "USpeVs6-Wo4B",
        "outputId": "a914e231-22af-4a37-bb0c-1c59ba5b1bb5",
        "colab": {
          "base_uri": "https://localhost:8080/",
          "height": 1000
        }
      },
      "source": [
        "#Dependencies\n",
        "import keras\n",
        "from keras.models import Sequential\n",
        "from keras.layers import Dense\n",
        "# Neural network\n",
        "model = Sequential()\n",
        "model.add(Dense(21, input_dim=4, activation='relu'))\n",
        "model.add(Dense(11, activation='relu'))\n",
        "\n",
        "#model.add(Dense(4, activation='softmax'))\n",
        "\n",
        "\n",
        "model.summary()\n",
        "\n",
        "model.compile(loss='categorical_crossentropy', \n",
        "         optimizer='sgd',\n",
        "         metrics=['accuracy'])\n",
        "\n",
        "\n",
        "def convert_to_n_hot(X, vocab_size):\n",
        "    out = []\n",
        "    for instance in X:\n",
        "        n_hot = np.zeros(vocab_size)\n",
        "        for w_idx in instance:\n",
        "            n_hot[w_idx] = 1\n",
        "        out.append(n_hot)\n",
        "    return np.array(out)\n",
        "\n",
        "\n",
        "\n",
        "#number of epochs to train for\n",
        "nb_epoch = 120\n",
        "#amount of data each iteration in an epoch sees\n",
        "batch_size = 128\n",
        "\n",
        "X_train=Prony\n",
        "Y_train=y\n",
        "\n",
        "\n",
        "X_test=X_train\n",
        "Y_test=Y_train\n",
        "\n",
        "print(\"Let's figure out Data Shapes\")\n",
        "print(X_train.shape)\n",
        "print(Y_train.shape)\n",
        "\n",
        "model.fit(X_train, Y_train, batch_size=batch_size, epochs =nb_epoch,  verbose=1, validation_data=(X_test, Y_test))\n",
        "\n",
        "#score = model.evaluate(X_test, Y_test, verbose=0)\n",
        "\n",
        "#print('Test score:', score[0])\n",
        "#print('Test accuracy:', score[1])\n"
      ],
      "execution_count": 121,
      "outputs": [
        {
          "output_type": "stream",
          "text": [
            "Model: \"sequential_24\"\n",
            "_________________________________________________________________\n",
            "Layer (type)                 Output Shape              Param #   \n",
            "=================================================================\n",
            "dense_45 (Dense)             (None, 21)                105       \n",
            "_________________________________________________________________\n",
            "dense_46 (Dense)             (None, 11)                242       \n",
            "=================================================================\n",
            "Total params: 347\n",
            "Trainable params: 347\n",
            "Non-trainable params: 0\n",
            "_________________________________________________________________\n",
            "Let's figure out Data Shapes\n",
            "(3960, 4)\n",
            "(3960, 11)\n",
            "Epoch 1/120\n",
            "31/31 [==============================] - 1s 18ms/step - loss: 10.7697 - accuracy: 0.0907 - val_loss: 10.7619 - val_accuracy: 0.0909\n",
            "Epoch 2/120\n",
            "31/31 [==============================] - 0s 3ms/step - loss: 10.7618 - accuracy: 0.0909 - val_loss: 10.7613 - val_accuracy: 0.0909\n",
            "Epoch 3/120\n",
            "31/31 [==============================] - 0s 3ms/step - loss: 10.7615 - accuracy: 0.0889 - val_loss: 10.7612 - val_accuracy: 0.0909\n",
            "Epoch 4/120\n",
            "31/31 [==============================] - 0s 3ms/step - loss: 10.7614 - accuracy: 0.0874 - val_loss: 10.7611 - val_accuracy: 0.0909\n",
            "Epoch 5/120\n",
            "31/31 [==============================] - 0s 3ms/step - loss: 10.7614 - accuracy: 0.0889 - val_loss: 10.7611 - val_accuracy: 0.0909\n",
            "Epoch 6/120\n",
            "31/31 [==============================] - 0s 3ms/step - loss: 10.7614 - accuracy: 0.0876 - val_loss: 10.7611 - val_accuracy: 0.0909\n",
            "Epoch 7/120\n",
            "31/31 [==============================] - 0s 3ms/step - loss: 10.7614 - accuracy: 0.0869 - val_loss: 10.7611 - val_accuracy: 0.0909\n",
            "Epoch 8/120\n",
            "31/31 [==============================] - 0s 3ms/step - loss: 10.7614 - accuracy: 0.0813 - val_loss: 10.7611 - val_accuracy: 0.0909\n",
            "Epoch 9/120\n",
            "31/31 [==============================] - 0s 3ms/step - loss: 10.7614 - accuracy: 0.0889 - val_loss: 10.7611 - val_accuracy: 0.0909\n",
            "Epoch 10/120\n",
            "31/31 [==============================] - 0s 3ms/step - loss: 10.7615 - accuracy: 0.0851 - val_loss: 10.7611 - val_accuracy: 0.0909\n",
            "Epoch 11/120\n",
            "31/31 [==============================] - 0s 3ms/step - loss: 10.7613 - accuracy: 0.0869 - val_loss: 10.7611 - val_accuracy: 0.0909\n",
            "Epoch 12/120\n",
            "31/31 [==============================] - 0s 3ms/step - loss: 10.7614 - accuracy: 0.0831 - val_loss: 10.7611 - val_accuracy: 0.0909\n",
            "Epoch 13/120\n",
            "31/31 [==============================] - 0s 3ms/step - loss: 10.7614 - accuracy: 0.0904 - val_loss: 10.7611 - val_accuracy: 0.0909\n",
            "Epoch 14/120\n",
            "31/31 [==============================] - 0s 3ms/step - loss: 10.7615 - accuracy: 0.0826 - val_loss: 10.7611 - val_accuracy: 0.0909\n",
            "Epoch 15/120\n",
            "31/31 [==============================] - 0s 3ms/step - loss: 10.7614 - accuracy: 0.0859 - val_loss: 10.7611 - val_accuracy: 0.0909\n",
            "Epoch 16/120\n",
            "31/31 [==============================] - 0s 3ms/step - loss: 10.7614 - accuracy: 0.0843 - val_loss: 10.7611 - val_accuracy: 0.0909\n",
            "Epoch 17/120\n",
            "31/31 [==============================] - 0s 3ms/step - loss: 10.7614 - accuracy: 0.0859 - val_loss: 10.7611 - val_accuracy: 0.0909\n",
            "Epoch 18/120\n",
            "31/31 [==============================] - 0s 3ms/step - loss: 10.7615 - accuracy: 0.0770 - val_loss: 10.7611 - val_accuracy: 0.0909\n",
            "Epoch 19/120\n",
            "31/31 [==============================] - 0s 3ms/step - loss: 10.7613 - accuracy: 0.0859 - val_loss: 10.7611 - val_accuracy: 0.0909\n",
            "Epoch 20/120\n",
            "31/31 [==============================] - 0s 3ms/step - loss: 10.7614 - accuracy: 0.0881 - val_loss: 10.7611 - val_accuracy: 0.1818\n",
            "Epoch 21/120\n",
            "31/31 [==============================] - 0s 3ms/step - loss: 10.7613 - accuracy: 0.0891 - val_loss: 10.7611 - val_accuracy: 0.0909\n",
            "Epoch 22/120\n",
            "31/31 [==============================] - 0s 3ms/step - loss: 10.7613 - accuracy: 0.0851 - val_loss: 10.7611 - val_accuracy: 0.0909\n",
            "Epoch 23/120\n",
            "31/31 [==============================] - 0s 3ms/step - loss: 10.7613 - accuracy: 0.0869 - val_loss: 10.7611 - val_accuracy: 0.0909\n",
            "Epoch 24/120\n",
            "31/31 [==============================] - 0s 3ms/step - loss: 10.7614 - accuracy: 0.0896 - val_loss: 10.7611 - val_accuracy: 0.0909\n",
            "Epoch 25/120\n",
            "31/31 [==============================] - 0s 4ms/step - loss: 10.7614 - accuracy: 0.0861 - val_loss: 10.7611 - val_accuracy: 0.0909\n",
            "Epoch 26/120\n",
            "31/31 [==============================] - 0s 3ms/step - loss: 10.7614 - accuracy: 0.0879 - val_loss: 10.7611 - val_accuracy: 0.0909\n",
            "Epoch 27/120\n",
            "31/31 [==============================] - 0s 3ms/step - loss: 10.7614 - accuracy: 0.0838 - val_loss: 10.7611 - val_accuracy: 0.0909\n",
            "Epoch 28/120\n",
            "31/31 [==============================] - 0s 3ms/step - loss: 10.7614 - accuracy: 0.0861 - val_loss: 10.7611 - val_accuracy: 0.0909\n",
            "Epoch 29/120\n",
            "31/31 [==============================] - 0s 3ms/step - loss: 10.7615 - accuracy: 0.0848 - val_loss: 10.7611 - val_accuracy: 0.0909\n",
            "Epoch 30/120\n",
            "31/31 [==============================] - 0s 3ms/step - loss: 10.7614 - accuracy: 0.0843 - val_loss: 10.7611 - val_accuracy: 0.0909\n",
            "Epoch 31/120\n",
            "31/31 [==============================] - 0s 3ms/step - loss: 10.7614 - accuracy: 0.0846 - val_loss: 10.7611 - val_accuracy: 0.0909\n",
            "Epoch 32/120\n",
            "31/31 [==============================] - 0s 3ms/step - loss: 10.7614 - accuracy: 0.0859 - val_loss: 10.7611 - val_accuracy: 0.0909\n",
            "Epoch 33/120\n",
            "31/31 [==============================] - 0s 3ms/step - loss: 10.7614 - accuracy: 0.0841 - val_loss: 10.7611 - val_accuracy: 0.0909\n",
            "Epoch 34/120\n",
            "31/31 [==============================] - 0s 3ms/step - loss: 10.7613 - accuracy: 0.0896 - val_loss: 10.7611 - val_accuracy: 0.0909\n",
            "Epoch 35/120\n",
            "31/31 [==============================] - 0s 3ms/step - loss: 10.7614 - accuracy: 0.0902 - val_loss: 10.7611 - val_accuracy: 0.0909\n",
            "Epoch 36/120\n",
            "31/31 [==============================] - 0s 4ms/step - loss: 10.7613 - accuracy: 0.0909 - val_loss: 10.7611 - val_accuracy: 0.0909\n",
            "Epoch 37/120\n",
            "31/31 [==============================] - 0s 3ms/step - loss: 10.7614 - accuracy: 0.0816 - val_loss: 10.7611 - val_accuracy: 0.0909\n",
            "Epoch 38/120\n",
            "31/31 [==============================] - 0s 3ms/step - loss: 10.7613 - accuracy: 0.0821 - val_loss: 10.7611 - val_accuracy: 0.0909\n",
            "Epoch 39/120\n",
            "31/31 [==============================] - 0s 3ms/step - loss: 10.7614 - accuracy: 0.0909 - val_loss: 10.7611 - val_accuracy: 0.0909\n",
            "Epoch 40/120\n",
            "31/31 [==============================] - 0s 3ms/step - loss: 10.7613 - accuracy: 0.0848 - val_loss: 10.7611 - val_accuracy: 0.0909\n",
            "Epoch 41/120\n",
            "31/31 [==============================] - 0s 3ms/step - loss: 10.7614 - accuracy: 0.0871 - val_loss: 10.7611 - val_accuracy: 0.0909\n",
            "Epoch 42/120\n",
            "31/31 [==============================] - 0s 3ms/step - loss: 10.7614 - accuracy: 0.0881 - val_loss: 10.7611 - val_accuracy: 0.0909\n",
            "Epoch 43/120\n",
            "31/31 [==============================] - 0s 3ms/step - loss: 10.7615 - accuracy: 0.0813 - val_loss: 10.7611 - val_accuracy: 0.0909\n",
            "Epoch 44/120\n",
            "31/31 [==============================] - 0s 3ms/step - loss: 10.7613 - accuracy: 0.0838 - val_loss: 10.7611 - val_accuracy: 0.0909\n",
            "Epoch 45/120\n",
            "31/31 [==============================] - 0s 3ms/step - loss: 10.7614 - accuracy: 0.0869 - val_loss: 10.7611 - val_accuracy: 0.0909\n",
            "Epoch 46/120\n",
            "31/31 [==============================] - 0s 3ms/step - loss: 10.7613 - accuracy: 0.0813 - val_loss: 10.7611 - val_accuracy: 0.0909\n",
            "Epoch 47/120\n",
            "31/31 [==============================] - 0s 3ms/step - loss: 10.7614 - accuracy: 0.0881 - val_loss: 10.7611 - val_accuracy: 0.0909\n",
            "Epoch 48/120\n",
            "31/31 [==============================] - 0s 3ms/step - loss: 10.7613 - accuracy: 0.0846 - val_loss: 10.7611 - val_accuracy: 0.0909\n",
            "Epoch 49/120\n",
            "31/31 [==============================] - 0s 3ms/step - loss: 10.7613 - accuracy: 0.0838 - val_loss: 10.7611 - val_accuracy: 0.0909\n",
            "Epoch 50/120\n",
            "31/31 [==============================] - 0s 4ms/step - loss: 10.7613 - accuracy: 0.0836 - val_loss: 10.7611 - val_accuracy: 0.0909\n",
            "Epoch 51/120\n",
            "31/31 [==============================] - 0s 3ms/step - loss: 10.7613 - accuracy: 0.0881 - val_loss: 10.7611 - val_accuracy: 0.0909\n",
            "Epoch 52/120\n",
            "31/31 [==============================] - 0s 3ms/step - loss: 10.7614 - accuracy: 0.0879 - val_loss: 10.7611 - val_accuracy: 0.0909\n",
            "Epoch 53/120\n",
            "31/31 [==============================] - 0s 3ms/step - loss: 10.7614 - accuracy: 0.0841 - val_loss: 10.7611 - val_accuracy: 0.0909\n",
            "Epoch 54/120\n",
            "31/31 [==============================] - 0s 3ms/step - loss: 10.7613 - accuracy: 0.0896 - val_loss: 10.7611 - val_accuracy: 0.0909\n",
            "Epoch 55/120\n",
            "31/31 [==============================] - 0s 2ms/step - loss: 10.7614 - accuracy: 0.0795 - val_loss: 10.7611 - val_accuracy: 0.0909\n",
            "Epoch 56/120\n",
            "31/31 [==============================] - 0s 3ms/step - loss: 10.7613 - accuracy: 0.0795 - val_loss: 10.7611 - val_accuracy: 0.0909\n",
            "Epoch 57/120\n",
            "31/31 [==============================] - 0s 3ms/step - loss: 10.7613 - accuracy: 0.0899 - val_loss: 10.7611 - val_accuracy: 0.0909\n",
            "Epoch 58/120\n",
            "31/31 [==============================] - 0s 2ms/step - loss: 10.7613 - accuracy: 0.0871 - val_loss: 10.7611 - val_accuracy: 0.0909\n",
            "Epoch 59/120\n",
            "31/31 [==============================] - 0s 2ms/step - loss: 10.7614 - accuracy: 0.0866 - val_loss: 10.7611 - val_accuracy: 0.0909\n",
            "Epoch 60/120\n",
            "31/31 [==============================] - 0s 2ms/step - loss: 10.7613 - accuracy: 0.0886 - val_loss: 10.7611 - val_accuracy: 0.0909\n",
            "Epoch 61/120\n",
            "31/31 [==============================] - 0s 3ms/step - loss: 10.7615 - accuracy: 0.0811 - val_loss: 10.7611 - val_accuracy: 0.0909\n",
            "Epoch 62/120\n",
            "31/31 [==============================] - 0s 2ms/step - loss: 10.7614 - accuracy: 0.0833 - val_loss: 10.7611 - val_accuracy: 0.0909\n",
            "Epoch 63/120\n",
            "31/31 [==============================] - 0s 2ms/step - loss: 10.7613 - accuracy: 0.0854 - val_loss: 10.7611 - val_accuracy: 0.0909\n",
            "Epoch 64/120\n",
            "31/31 [==============================] - 0s 2ms/step - loss: 10.7614 - accuracy: 0.0801 - val_loss: 10.7611 - val_accuracy: 0.0909\n",
            "Epoch 65/120\n",
            "31/31 [==============================] - 0s 2ms/step - loss: 10.7613 - accuracy: 0.0876 - val_loss: 10.7611 - val_accuracy: 0.0909\n",
            "Epoch 66/120\n",
            "31/31 [==============================] - 0s 2ms/step - loss: 10.7614 - accuracy: 0.0859 - val_loss: 10.7611 - val_accuracy: 0.0909\n",
            "Epoch 67/120\n",
            "31/31 [==============================] - 0s 3ms/step - loss: 10.7614 - accuracy: 0.0838 - val_loss: 10.7611 - val_accuracy: 0.0909\n",
            "Epoch 68/120\n",
            "31/31 [==============================] - 0s 3ms/step - loss: 10.7613 - accuracy: 0.0876 - val_loss: 10.7611 - val_accuracy: 0.0909\n",
            "Epoch 69/120\n",
            "31/31 [==============================] - 0s 3ms/step - loss: 10.7613 - accuracy: 0.0843 - val_loss: 10.7611 - val_accuracy: 0.0909\n",
            "Epoch 70/120\n",
            "31/31 [==============================] - 0s 2ms/step - loss: 10.7614 - accuracy: 0.0899 - val_loss: 10.7611 - val_accuracy: 0.0909\n",
            "Epoch 71/120\n",
            "31/31 [==============================] - 0s 3ms/step - loss: 10.7614 - accuracy: 0.0869 - val_loss: 10.7611 - val_accuracy: 0.0909\n",
            "Epoch 72/120\n",
            "31/31 [==============================] - 0s 3ms/step - loss: 10.7614 - accuracy: 0.0831 - val_loss: 10.7611 - val_accuracy: 0.0909\n",
            "Epoch 73/120\n",
            "31/31 [==============================] - 0s 2ms/step - loss: 10.7613 - accuracy: 0.0881 - val_loss: 10.7611 - val_accuracy: 0.0909\n",
            "Epoch 74/120\n",
            "31/31 [==============================] - 0s 3ms/step - loss: 10.7614 - accuracy: 0.0823 - val_loss: 10.7611 - val_accuracy: 0.0909\n",
            "Epoch 75/120\n",
            "31/31 [==============================] - 0s 3ms/step - loss: 10.7614 - accuracy: 0.0859 - val_loss: 10.7611 - val_accuracy: 0.0909\n",
            "Epoch 76/120\n",
            "31/31 [==============================] - 0s 3ms/step - loss: 10.7613 - accuracy: 0.0841 - val_loss: 10.7611 - val_accuracy: 0.0909\n",
            "Epoch 77/120\n",
            "31/31 [==============================] - 0s 2ms/step - loss: 10.7614 - accuracy: 0.0871 - val_loss: 10.7611 - val_accuracy: 0.0909\n",
            "Epoch 78/120\n",
            "31/31 [==============================] - 0s 2ms/step - loss: 10.7613 - accuracy: 0.0841 - val_loss: 10.7611 - val_accuracy: 0.0909\n",
            "Epoch 79/120\n",
            "31/31 [==============================] - 0s 2ms/step - loss: 10.7613 - accuracy: 0.0866 - val_loss: 10.7611 - val_accuracy: 0.0909\n",
            "Epoch 80/120\n",
            "31/31 [==============================] - 0s 3ms/step - loss: 10.7614 - accuracy: 0.0785 - val_loss: 10.7611 - val_accuracy: 0.0909\n",
            "Epoch 81/120\n",
            "31/31 [==============================] - 0s 2ms/step - loss: 10.7613 - accuracy: 0.0838 - val_loss: 10.7611 - val_accuracy: 0.0909\n",
            "Epoch 82/120\n",
            "31/31 [==============================] - 0s 2ms/step - loss: 10.7614 - accuracy: 0.0864 - val_loss: 10.7611 - val_accuracy: 0.0909\n",
            "Epoch 83/120\n",
            "31/31 [==============================] - 0s 2ms/step - loss: 10.7614 - accuracy: 0.0785 - val_loss: 10.7611 - val_accuracy: 0.0909\n",
            "Epoch 84/120\n",
            "31/31 [==============================] - 0s 3ms/step - loss: 10.7613 - accuracy: 0.0793 - val_loss: 10.7611 - val_accuracy: 0.0909\n",
            "Epoch 85/120\n",
            "31/31 [==============================] - 0s 2ms/step - loss: 10.7613 - accuracy: 0.0833 - val_loss: 10.7611 - val_accuracy: 0.0909\n",
            "Epoch 86/120\n",
            "31/31 [==============================] - 0s 2ms/step - loss: 10.7614 - accuracy: 0.0859 - val_loss: 10.7611 - val_accuracy: 0.0909\n",
            "Epoch 87/120\n",
            "31/31 [==============================] - 0s 2ms/step - loss: 10.7613 - accuracy: 0.0894 - val_loss: 10.7611 - val_accuracy: 0.0909\n",
            "Epoch 88/120\n",
            "31/31 [==============================] - 0s 2ms/step - loss: 10.7613 - accuracy: 0.0864 - val_loss: 10.7611 - val_accuracy: 0.0909\n",
            "Epoch 89/120\n",
            "31/31 [==============================] - 0s 2ms/step - loss: 10.7613 - accuracy: 0.0831 - val_loss: 10.7611 - val_accuracy: 0.0909\n",
            "Epoch 90/120\n",
            "31/31 [==============================] - 0s 3ms/step - loss: 10.7613 - accuracy: 0.0874 - val_loss: 10.7611 - val_accuracy: 0.0909\n",
            "Epoch 91/120\n",
            "31/31 [==============================] - 0s 3ms/step - loss: 10.7613 - accuracy: 0.0861 - val_loss: 10.7611 - val_accuracy: 0.0909\n",
            "Epoch 92/120\n",
            "31/31 [==============================] - 0s 2ms/step - loss: 10.7613 - accuracy: 0.0884 - val_loss: 10.7611 - val_accuracy: 0.0909\n",
            "Epoch 93/120\n",
            "31/31 [==============================] - 0s 2ms/step - loss: 10.7613 - accuracy: 0.0831 - val_loss: 10.7611 - val_accuracy: 0.0909\n",
            "Epoch 94/120\n",
            "31/31 [==============================] - 0s 3ms/step - loss: 10.7614 - accuracy: 0.0831 - val_loss: 10.7611 - val_accuracy: 0.0909\n",
            "Epoch 95/120\n",
            "31/31 [==============================] - 0s 2ms/step - loss: 10.7613 - accuracy: 0.0894 - val_loss: 10.7611 - val_accuracy: 0.0909\n",
            "Epoch 96/120\n",
            "31/31 [==============================] - 0s 2ms/step - loss: 10.7613 - accuracy: 0.0869 - val_loss: 10.7611 - val_accuracy: 0.0909\n",
            "Epoch 97/120\n",
            "31/31 [==============================] - 0s 2ms/step - loss: 10.7614 - accuracy: 0.0871 - val_loss: 10.7611 - val_accuracy: 0.0909\n",
            "Epoch 98/120\n",
            "31/31 [==============================] - 0s 2ms/step - loss: 10.7613 - accuracy: 0.0874 - val_loss: 10.7611 - val_accuracy: 0.0909\n",
            "Epoch 99/120\n",
            "31/31 [==============================] - 0s 2ms/step - loss: 10.7613 - accuracy: 0.0896 - val_loss: 10.7611 - val_accuracy: 0.0909\n",
            "Epoch 100/120\n",
            "31/31 [==============================] - 0s 3ms/step - loss: 10.7613 - accuracy: 0.0843 - val_loss: 10.7611 - val_accuracy: 0.0909\n",
            "Epoch 101/120\n",
            "31/31 [==============================] - 0s 2ms/step - loss: 10.7613 - accuracy: 0.0818 - val_loss: 10.7611 - val_accuracy: 0.0909\n",
            "Epoch 102/120\n",
            "31/31 [==============================] - 0s 2ms/step - loss: 10.7613 - accuracy: 0.0790 - val_loss: 10.7611 - val_accuracy: 0.0909\n",
            "Epoch 103/120\n",
            "31/31 [==============================] - 0s 3ms/step - loss: 10.7613 - accuracy: 0.0874 - val_loss: 10.7611 - val_accuracy: 0.0909\n",
            "Epoch 104/120\n",
            "31/31 [==============================] - 0s 2ms/step - loss: 10.7613 - accuracy: 0.0854 - val_loss: 10.7611 - val_accuracy: 0.0909\n",
            "Epoch 105/120\n",
            "31/31 [==============================] - 0s 3ms/step - loss: 10.7612 - accuracy: 0.0894 - val_loss: 10.7611 - val_accuracy: 0.0909\n",
            "Epoch 106/120\n",
            "31/31 [==============================] - 0s 3ms/step - loss: 10.7613 - accuracy: 0.0823 - val_loss: 10.7611 - val_accuracy: 0.0909\n",
            "Epoch 107/120\n",
            "31/31 [==============================] - 0s 3ms/step - loss: 10.7613 - accuracy: 0.0864 - val_loss: 10.7611 - val_accuracy: 0.0909\n",
            "Epoch 108/120\n",
            "31/31 [==============================] - 0s 3ms/step - loss: 10.7613 - accuracy: 0.0886 - val_loss: 10.7611 - val_accuracy: 0.0909\n",
            "Epoch 109/120\n",
            "31/31 [==============================] - 0s 2ms/step - loss: 10.7613 - accuracy: 0.0831 - val_loss: 10.7611 - val_accuracy: 0.0909\n",
            "Epoch 110/120\n",
            "31/31 [==============================] - 0s 2ms/step - loss: 10.7613 - accuracy: 0.0922 - val_loss: 10.7611 - val_accuracy: 0.0909\n",
            "Epoch 111/120\n",
            "31/31 [==============================] - 0s 3ms/step - loss: 10.7613 - accuracy: 0.0866 - val_loss: 10.7611 - val_accuracy: 0.0909\n",
            "Epoch 112/120\n",
            "31/31 [==============================] - 0s 2ms/step - loss: 10.7613 - accuracy: 0.0866 - val_loss: 10.7611 - val_accuracy: 0.0909\n",
            "Epoch 113/120\n",
            "31/31 [==============================] - 0s 2ms/step - loss: 10.7613 - accuracy: 0.0884 - val_loss: 10.7611 - val_accuracy: 0.0909\n",
            "Epoch 114/120\n",
            "31/31 [==============================] - 0s 3ms/step - loss: 10.7613 - accuracy: 0.0871 - val_loss: 10.7611 - val_accuracy: 0.0909\n",
            "Epoch 115/120\n",
            "31/31 [==============================] - 0s 3ms/step - loss: 10.7614 - accuracy: 0.0841 - val_loss: 10.7611 - val_accuracy: 0.0909\n",
            "Epoch 116/120\n",
            "31/31 [==============================] - 0s 3ms/step - loss: 10.7614 - accuracy: 0.0846 - val_loss: 10.7611 - val_accuracy: 0.0909\n",
            "Epoch 117/120\n",
            "31/31 [==============================] - 0s 2ms/step - loss: 10.7614 - accuracy: 0.0790 - val_loss: 10.7611 - val_accuracy: 0.0909\n",
            "Epoch 118/120\n",
            "31/31 [==============================] - 0s 3ms/step - loss: 10.7613 - accuracy: 0.0884 - val_loss: 10.7611 - val_accuracy: 0.0909\n",
            "Epoch 119/120\n",
            "31/31 [==============================] - 0s 3ms/step - loss: 10.7614 - accuracy: 0.0848 - val_loss: 10.7611 - val_accuracy: 0.0909\n",
            "Epoch 120/120\n",
            "31/31 [==============================] - 0s 3ms/step - loss: 10.7613 - accuracy: 0.0871 - val_loss: 10.7611 - val_accuracy: 0.0909\n"
          ],
          "name": "stdout"
        },
        {
          "output_type": "execute_result",
          "data": {
            "text/plain": [
              "<tensorflow.python.keras.callbacks.History at 0x7f491747c208>"
            ]
          },
          "metadata": {
            "tags": []
          },
          "execution_count": 121
        }
      ]
    },
    {
      "cell_type": "code",
      "metadata": {
        "id": "oR_61OSA_69X"
      },
      "source": [
        "from tensorflow import keras\n",
        "from tensorflow.keras import layers\n",
        "\n",
        "# YOUR CODE HERE\n",
        "#model = ____\n",
        "\n",
        "from tensorflow import keras\n",
        "from tensorflow.keras import layers\n",
        "\n",
        "model = keras.Sequential([\n",
        "    layers.Dense(units=1, input_shape=[4])\n",
        "])\n",
        "\n",
        "\n",
        "# YOUR CODE HERE\n",
        "w, b = model.weights"
      ],
      "execution_count": 102,
      "outputs": []
    },
    {
      "cell_type": "code",
      "metadata": {
        "id": "jwcwDCfdAqOV",
        "outputId": "d951ab69-08d7-49a3-a55a-1d18ec727939",
        "colab": {
          "base_uri": "https://localhost:8080/",
          "height": 68
        }
      },
      "source": [
        "print(A)"
      ],
      "execution_count": 34,
      "outputs": [
        {
          "output_type": "stream",
          "text": [
            "          0         1             2            3\n",
            "0 -1.730628  0.767133  7.898820e+12  93252479.70\n",
            "1 -1.728982  0.765516  7.909490e+12  93284910.87\n"
          ],
          "name": "stdout"
        }
      ]
    },
    {
      "cell_type": "code",
      "metadata": {
        "id": "f-ZiXJ4LBiac",
        "outputId": "9aa71403-7099-4ff2-f806-3bccb68f3f8d",
        "colab": {
          "base_uri": "https://localhost:8080/",
          "height": 102
        }
      },
      "source": [
        "B=slice2.iloc[359,:]\n",
        "print(B)\n",
        "\n"
      ],
      "execution_count": 35,
      "outputs": [
        {
          "output_type": "stream",
          "text": [
            "0   -1.480746e+00\n",
            "1    5.218340e-01\n",
            "2    1.027730e+13\n",
            "3    1.122910e+08\n",
            "Name: 359, dtype: float64\n"
          ],
          "name": "stdout"
        }
      ]
    },
    {
      "cell_type": "code",
      "metadata": {
        "id": "MAomEIF3CDv-",
        "outputId": "2dc8e5bd-3e7d-4656-ad0e-be7fa8ca1b1b",
        "colab": {
          "base_uri": "https://localhost:8080/",
          "height": 34
        }
      },
      "source": [
        "print(slice2.shape)"
      ],
      "execution_count": 36,
      "outputs": [
        {
          "output_type": "stream",
          "text": [
            "(360, 4)\n"
          ],
          "name": "stdout"
        }
      ]
    },
    {
      "cell_type": "code",
      "metadata": {
        "id": "YqkYwCWIDde6",
        "outputId": "7800bde5-0176-44c1-9be1-f7a8d19d2fad",
        "colab": {
          "base_uri": "https://localhost:8080/",
          "height": 34
        }
      },
      "source": [
        "print(class1.shape)"
      ],
      "execution_count": 56,
      "outputs": [
        {
          "output_type": "stream",
          "text": [
            "(360, 4)\n"
          ],
          "name": "stdout"
        }
      ]
    },
    {
      "cell_type": "code",
      "metadata": {
        "id": "gegPErxDEPen",
        "outputId": "383c421c-2feb-4830-b836-f1b00ebaee80",
        "colab": {
          "base_uri": "https://localhost:8080/",
          "height": 102
        }
      },
      "source": [
        "QQQ=class1.iloc[0,:]\n",
        "print(QQQ)"
      ],
      "execution_count": 57,
      "outputs": [
        {
          "output_type": "stream",
          "text": [
            "0   -1.784701e+00\n",
            "1    8.192394e-01\n",
            "2    4.627820e+12\n",
            "3    7.214163e+07\n",
            "Name: 360, dtype: float64\n"
          ],
          "name": "stdout"
        }
      ]
    },
    {
      "cell_type": "code",
      "metadata": {
        "id": "vZg-C0jYHm5e",
        "outputId": "f996130a-6bcd-4226-89e1-455749f8f744",
        "colab": {
          "base_uri": "https://localhost:8080/",
          "height": 102
        }
      },
      "source": [
        "QQQ1=class1.iloc[359,:]\n",
        "print(QQQ1)"
      ],
      "execution_count": 60,
      "outputs": [
        {
          "output_type": "stream",
          "text": [
            "0   -1.547201e+00\n",
            "1    5.842028e-01\n",
            "2    5.413320e+12\n",
            "3    8.203750e+07\n",
            "Name: 719, dtype: float64\n"
          ],
          "name": "stdout"
        }
      ]
    }
  ]
}