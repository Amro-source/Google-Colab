{
  "nbformat": 4,
  "nbformat_minor": 0,
  "metadata": {
    "colab": {
      "name": "Feed forward Fashion MNIST.ipynb",
      "provenance": [],
      "authorship_tag": "ABX9TyPZQ2oiOxu48Nr8+aVcWEBZ",
      "include_colab_link": true
    },
    "kernelspec": {
      "name": "python3",
      "display_name": "Python 3"
    }
  },
  "cells": [
    {
      "cell_type": "markdown",
      "metadata": {
        "id": "view-in-github",
        "colab_type": "text"
      },
      "source": [
        "<a href=\"https://colab.research.google.com/github/Amro-source/Google-Colab/blob/main/Feed_forward_Fashion_MNIST.ipynb\" target=\"_parent\"><img src=\"https://colab.research.google.com/assets/colab-badge.svg\" alt=\"Open In Colab\"/></a>"
      ]
    },
    {
      "cell_type": "code",
      "metadata": {
        "id": "YtDuWGtblGYH"
      },
      "source": [
        "\n",
        "# Matplotlib\n",
        "import matplotlib.pyplot as plt\n",
        "# Tensorflow\n",
        "import tensorflow as tf\n",
        "# Numpy and Pandas\n",
        "import numpy as np\n",
        "import pandas as pd\n",
        "# Ohter import\n",
        "import sys"
      ],
      "execution_count": 1,
      "outputs": []
    },
    {
      "cell_type": "code",
      "metadata": {
        "id": "XUgX6862lUDT"
      },
      "source": [
        "\n",
        "assert hasattr(tf, \"function\") # Be sure to use tensorflow 2.0"
      ],
      "execution_count": 2,
      "outputs": []
    },
    {
      "cell_type": "code",
      "metadata": {
        "id": "-bJHoevslYLy",
        "outputId": "746baf5b-64d9-4c61-fbd2-3f799d79a7df",
        "colab": {
          "base_uri": "https://localhost:8080/",
          "height": 187
        }
      },
      "source": [
        "from sklearn.preprocessing import StandardScaler\n",
        "\n",
        "# Fashio MNIST\n",
        "fashion_mnist = tf.keras.datasets.fashion_mnist\n",
        "(images, targets), (images_test, targets_test) = fashion_mnist.load_data()\n",
        "\n",
        "# Get only a subpart of the dataset\n",
        "images = images[:10000]\n",
        "targets = targets [:10000]\n",
        "\n",
        "# Reshape the dataset and convert to float\n",
        "images = images.reshape(-1, 784)\n",
        "images = images.astype(float)\n",
        "images_test = images_test.reshape(-1, 784)\n",
        "images_test = images_test.astype(float)\n",
        "\n",
        "scaler = StandardScaler()\n",
        "images = scaler.fit_transform(images)\n",
        "images_test = scaler.transform(images_test)\n",
        "\n",
        "print(images.shape)\n",
        "print(targets.shape)"
      ],
      "execution_count": 3,
      "outputs": [
        {
          "output_type": "stream",
          "text": [
            "Downloading data from https://storage.googleapis.com/tensorflow/tf-keras-datasets/train-labels-idx1-ubyte.gz\n",
            "32768/29515 [=================================] - 0s 0us/step\n",
            "Downloading data from https://storage.googleapis.com/tensorflow/tf-keras-datasets/train-images-idx3-ubyte.gz\n",
            "26427392/26421880 [==============================] - 0s 0us/step\n",
            "Downloading data from https://storage.googleapis.com/tensorflow/tf-keras-datasets/t10k-labels-idx1-ubyte.gz\n",
            "8192/5148 [===============================================] - 0s 0us/step\n",
            "Downloading data from https://storage.googleapis.com/tensorflow/tf-keras-datasets/t10k-images-idx3-ubyte.gz\n",
            "4423680/4422102 [==============================] - 0s 0us/step\n",
            "(10000, 784)\n",
            "(10000,)\n"
          ],
          "name": "stdout"
        }
      ]
    },
    {
      "cell_type": "code",
      "metadata": {
        "id": "ng50vhDfldww",
        "outputId": "f1d61877-3771-4b70-a0c8-16f08405a108",
        "colab": {
          "base_uri": "https://localhost:8080/",
          "height": 281
        }
      },
      "source": [
        "\n",
        "targets_names = [\"T-shirt/top\", \"Trouser\", \"Pullover\", \"Dress\", \"Coat\", \"Sandal\", \n",
        "                 \"Shirt\", \"Sneaker\", \"Bag\", \"Ankle boot\"\n",
        "]\n",
        "# Plot one image\n",
        "plt.imshow(np.reshape(images[11], (28, 28)), cmap=\"binary\")\n",
        "plt.title(targets_names[targets[11]])\n",
        "plt.show()"
      ],
      "execution_count": 4,
      "outputs": [
        {
          "output_type": "display_data",
          "data": {
            "image/png": "[encoded data removed]",
            "text/plain": [
              "<Figure size 432x288 with 1 Axes>"
            ]
          },
          "metadata": {
            "tags": [],
            "needs_background": "light"
          }
        }
      ]
    },
    {
      "cell_type": "code",
      "metadata": {
        "id": "ogVUM1BxlhOx",
        "outputId": "755f0fc1-e64a-4039-d9c7-317161bff23d",
        "colab": {
          "base_uri": "https://localhost:8080/",
          "height": 51
        }
      },
      "source": [
        "# Flatten\n",
        "model = tf.keras.models.Sequential()\n",
        "\n",
        "# Add the layers\n",
        "model.add(tf.keras.layers.Dense(256, activation=\"relu\"))\n",
        "model.add(tf.keras.layers.Dense(128, activation=\"relu\"))\n",
        "model.add(tf.keras.layers.Dense(10, activation=\"softmax\"))\n",
        "\n",
        "model_output = model.predict(images[0:1])\n",
        "print(model_output, targets[0:1])"
      ],
      "execution_count": 5,
      "outputs": [
        {
          "output_type": "stream",
          "text": [
            "[[0.01153811 0.11922471 0.06106612 0.02060375 0.06838276 0.01522899\n",
            "  0.06724521 0.01409046 0.4657096  0.15691027]] [9]\n"
          ],
          "name": "stdout"
        }
      ]
    },
    {
      "cell_type": "code",
      "metadata": {
        "id": "bb48N_N5lmTQ",
        "outputId": "3e7bcb3e-c641-4c3a-c4dc-c7cb76e46ebf",
        "colab": {
          "base_uri": "https://localhost:8080/",
          "height": 255
        }
      },
      "source": [
        "model.summary()"
      ],
      "execution_count": 6,
      "outputs": [
        {
          "output_type": "stream",
          "text": [
            "Model: \"sequential\"\n",
            "_________________________________________________________________\n",
            "Layer (type)                 Output Shape              Param #   \n",
            "=================================================================\n",
            "dense (Dense)                (None, 256)               200960    \n",
            "_________________________________________________________________\n",
            "dense_1 (Dense)              (None, 128)               32896     \n",
            "_________________________________________________________________\n",
            "dense_2 (Dense)              (None, 10)                1290      \n",
            "=================================================================\n",
            "Total params: 235,146\n",
            "Trainable params: 235,146\n",
            "Non-trainable params: 0\n",
            "_________________________________________________________________\n"
          ],
          "name": "stdout"
        }
      ]
    },
    {
      "cell_type": "code",
      "metadata": {
        "id": "plB8PyMJlrbM"
      },
      "source": [
        "\n",
        "# Compile the model\n",
        "model.compile(\n",
        "    loss=\"sparse_categorical_crossentropy\",\n",
        "    optimizer=\"sgd\",\n",
        "    metrics=[\"accuracy\"]\n",
        ")"
      ],
      "execution_count": 7,
      "outputs": []
    },
    {
      "cell_type": "code",
      "metadata": {
        "id": "oeVshPo1lufR",
        "outputId": "4cdec296-8992-4fff-872e-fe655173cc7f",
        "colab": {
          "base_uri": "https://localhost:8080/",
          "height": 377
        }
      },
      "source": [
        "history = model.fit(images, targets, epochs=10, validation_split=0.2)"
      ],
      "execution_count": 8,
      "outputs": [
        {
          "output_type": "stream",
          "text": [
            "Epoch 1/10\n",
            "250/250 [==============================] - 1s 2ms/step - loss: 0.8571 - accuracy: 0.7219 - val_loss: 0.6236 - val_accuracy: 0.7780\n",
            "Epoch 2/10\n",
            "250/250 [==============================] - 1s 2ms/step - loss: 0.5195 - accuracy: 0.8235 - val_loss: 0.5201 - val_accuracy: 0.8150\n",
            "Epoch 3/10\n",
            "250/250 [==============================] - 1s 2ms/step - loss: 0.4408 - accuracy: 0.8478 - val_loss: 0.4892 - val_accuracy: 0.8275\n",
            "Epoch 4/10\n",
            "250/250 [==============================] - 1s 2ms/step - loss: 0.3957 - accuracy: 0.8611 - val_loss: 0.4709 - val_accuracy: 0.8280\n",
            "Epoch 5/10\n",
            "250/250 [==============================] - 1s 2ms/step - loss: 0.3596 - accuracy: 0.8767 - val_loss: 0.4493 - val_accuracy: 0.8385\n",
            "Epoch 6/10\n",
            "250/250 [==============================] - 1s 2ms/step - loss: 0.3338 - accuracy: 0.8844 - val_loss: 0.4532 - val_accuracy: 0.8360\n",
            "Epoch 7/10\n",
            "250/250 [==============================] - 1s 2ms/step - loss: 0.3123 - accuracy: 0.8916 - val_loss: 0.4346 - val_accuracy: 0.8465\n",
            "Epoch 8/10\n",
            "250/250 [==============================] - 1s 2ms/step - loss: 0.2927 - accuracy: 0.8997 - val_loss: 0.4285 - val_accuracy: 0.8480\n",
            "Epoch 9/10\n",
            "250/250 [==============================] - 1s 2ms/step - loss: 0.2750 - accuracy: 0.9051 - val_loss: 0.4281 - val_accuracy: 0.8500\n",
            "Epoch 10/10\n",
            "250/250 [==============================] - 1s 2ms/step - loss: 0.2597 - accuracy: 0.9110 - val_loss: 0.4305 - val_accuracy: 0.8530\n"
          ],
          "name": "stdout"
        }
      ]
    },
    {
      "cell_type": "code",
      "metadata": {
        "id": "Nc_L1Z0Mmuz5",
        "outputId": "bfebd453-763c-4efd-b15c-eab7c5f4a165",
        "colab": {
          "base_uri": "https://localhost:8080/",
          "height": 545
        }
      },
      "source": [
        "\n",
        "loss_curve = history.history[\"loss\"]\n",
        "acc_curve = history.history[\"accuracy\"]\n",
        "\n",
        "loss_val_curve = history.history[\"val_loss\"]\n",
        "acc_val_curve = history.history[\"val_accuracy\"]\n",
        "\n",
        "plt.plot(loss_curve, label=\"Train\")\n",
        "plt.plot(loss_val_curve, label=\"Val\")\n",
        "plt.legend(loc='upper left')\n",
        "plt.title(\"Loss\")\n",
        "plt.show()\n",
        "\n",
        "plt.plot(acc_curve, label=\"Train\")\n",
        "plt.plot(acc_val_curve, label=\"Val\")\n",
        "plt.legend(loc='upper left')\n",
        "plt.title(\"Accuracy\")\n",
        "plt.show()"
      ],
      "execution_count": 9,
      "outputs": [
        {
          "output_type": "display_data",
          "data": {
            "image/png": "[encoded data removed]",
            "text/plain": [
              "<Figure size 432x288 with 1 Axes>"
            ]
          },
          "metadata": {
            "tags": [],
            "needs_background": "light"
          }
        },
        {
          "output_type": "display_data",
          "data": {
            "image/png": "[encoded data removed]",
            "text/plain": [
              "<Figure size 432x288 with 1 Axes>"
            ]
          },
          "metadata": {
            "tags": [],
            "needs_background": "light"
          }
        }
      ]
    },
    {
      "cell_type": "code",
      "metadata": {
        "id": "XtXNsY5omyih",
        "outputId": "8ad8e51b-428e-4013-f15b-5ba66c27ec8a",
        "colab": {
          "base_uri": "https://localhost:8080/",
          "height": 68
        }
      },
      "source": [
        "loss, acc = model.evaluate(images_test, targets_test)\n",
        "print(\"Test Loss\", loss)\n",
        "print(\"Test Accuracy\", acc)"
      ],
      "execution_count": 10,
      "outputs": [
        {
          "output_type": "stream",
          "text": [
            "313/313 [==============================] - 0s 970us/step - loss: 0.4524 - accuracy: 0.8423\n",
            "Test Loss 0.4523812532424927\n",
            "Test Accuracy 0.8422999978065491\n"
          ],
          "name": "stdout"
        }
      ]
    },
    {
      "cell_type": "code",
      "metadata": {
        "id": "OE9wuLPlm7YJ",
        "outputId": "f9267540-9d2e-4e47-c0fb-76f293c24115",
        "colab": {
          "base_uri": "https://localhost:8080/",
          "height": 34
        }
      },
      "source": [
        "print(targets)"
      ],
      "execution_count": 12,
      "outputs": [
        {
          "output_type": "stream",
          "text": [
            "[9 0 0 ... 0 6 6]\n"
          ],
          "name": "stdout"
        }
      ]
    },
    {
      "cell_type": "code",
      "metadata": {
        "id": "PB01m3M9pReD",
        "outputId": "73d54f36-45a8-4b5a-c8a8-a408d3fa5d79",
        "colab": {
          "base_uri": "https://localhost:8080/",
          "height": 34
        }
      },
      "source": [
        "# Setup plotting\n",
        "import matplotlib.pyplot as plt\n",
        "\n",
        "plt.style.use('seaborn-whitegrid')\n",
        "# Set Matplotlib defaults\n",
        "plt.rc('figure', autolayout=True)\n",
        "plt.rc('axes', labelweight='bold', labelsize='large',\n",
        "       titleweight='bold', titlesize=18, titlepad=10)\n",
        "\n",
        "# Setup feedback system\n",
        "#from learntools.core import binder\n",
        "#binder.bind(globals())\n",
        "#from learntools.deep_learning_intro.ex1 import *\n",
        "\n",
        "\n",
        "import pandas as pd\n",
        "\n",
        "Prony = pd.read_csv('sample_data/PoutProny.csv', header=None)\n",
        "Prony.head()\n",
        "\n",
        "Prony.shape # (rows, columns)\n"
      ],
      "execution_count": 13,
      "outputs": [
        {
          "output_type": "execute_result",
          "data": {
            "text/plain": [
              "(3960, 4)"
            ]
          },
          "metadata": {
            "tags": []
          },
          "execution_count": 13
        }
      ]
    },
    {
      "cell_type": "code",
      "metadata": {
        "id": "K8UG4Gosqiky"
      },
      "source": [
        "\n",
        "my_labels = [0,1,2,3,4,5,6,7,8,9,10]\n",
        "\n",
        "trainY=[];\n",
        "for x in range(1,11):\n",
        "  print(x*360)\n",
        "  idx=x*360\n",
        "  label=x\n",
        "  #my_labels=[my_labels,x]\n",
        "  print(label)\n",
        "  tmpclass=Prony.iloc[idx:idx+360,:]\n",
        "  print(tmpclass.shape)\n",
        "\n",
        "for q in my_labels:  \n",
        "\n",
        "  for y in range(360):\n",
        "    print(q)\n",
        "    trainY.append(q)"
      ],
      "execution_count": null,
      "outputs": []
    },
    {
      "cell_type": "code",
      "metadata": {
        "id": "2eK89-YjqvBK",
        "outputId": "1db01ae4-234c-4c10-b452-56d4d44044bb",
        "colab": {
          "base_uri": "https://localhost:8080/",
          "height": 85
        }
      },
      "source": [
        "X=Prony\n",
        "\n",
        "\n",
        "import numpy as np\n",
        "trainy=np.array(trainY)\n",
        "print(trainy.shape)\n",
        "print(trainy)\n",
        "\n",
        "Y=trainy\n",
        "print(X.shape)\n",
        "print(Y.shape)"
      ],
      "execution_count": 17,
      "outputs": [
        {
          "output_type": "stream",
          "text": [
            "(3960,)\n",
            "[ 0  0  0 ... 10 10 10]\n",
            "(3960, 4)\n",
            "(3960,)\n"
          ],
          "name": "stdout"
        }
      ]
    },
    {
      "cell_type": "code",
      "metadata": {
        "id": "MjEV6j1rrojD",
        "outputId": "cc3d13d3-e85d-4041-b232-01a9440a099e",
        "colab": {
          "base_uri": "https://localhost:8080/",
          "height": 139
        }
      },
      "source": [
        "# Flatten\n",
        "model2 = tf.keras.models.Sequential()\n",
        "\n",
        "# Add the layers\n",
        "model2.add(tf.keras.layers.Dense(4, activation=\"relu\"))\n",
        "model2.add(tf.keras.layers.Dense(21, activation=\"relu\"))\n",
        "model2.add(tf.keras.layers.Dense(11, activation=\"softmax\"))\n",
        "\n",
        "model_output = model2.predict(X[0:1])\n",
        "#print(model_output, targets[0:1])"
      ],
      "execution_count": 21,
      "outputs": [
        {
          "output_type": "stream",
          "text": [
            "WARNING:tensorflow:Layer dense_9 is casting an input tensor from dtype float64 to the layer's dtype of float32, which is new behavior in TensorFlow 2.  The layer has dtype float32 because its dtype defaults to floatx.\n",
            "\n",
            "If you intended to run this layer in float32, you can safely ignore this warning. If in doubt, this warning is likely only an issue if you are porting a TensorFlow 1.X model to TensorFlow 2.\n",
            "\n",
            "To change all layers to have dtype float64 by default, call `tf.keras.backend.set_floatx('float64')`. To change just this layer, pass dtype='float64' to the layer constructor. If you are the author of this layer, you can disable autocasting by passing autocast=False to the base Layer constructor.\n",
            "\n"
          ],
          "name": "stdout"
        }
      ]
    },
    {
      "cell_type": "code",
      "metadata": {
        "id": "ORIsZDoFr3ZI",
        "outputId": "0c60c7a4-7b81-42c1-c64f-1e0e3b4c6409",
        "colab": {
          "base_uri": "https://localhost:8080/",
          "height": 255
        }
      },
      "source": [
        "model2.summary()"
      ],
      "execution_count": 22,
      "outputs": [
        {
          "output_type": "stream",
          "text": [
            "Model: \"sequential_3\"\n",
            "_________________________________________________________________\n",
            "Layer (type)                 Output Shape              Param #   \n",
            "=================================================================\n",
            "dense_9 (Dense)              (None, 4)                 20        \n",
            "_________________________________________________________________\n",
            "dense_10 (Dense)             (None, 21)                105       \n",
            "_________________________________________________________________\n",
            "dense_11 (Dense)             (None, 11)                242       \n",
            "=================================================================\n",
            "Total params: 367\n",
            "Trainable params: 367\n",
            "Non-trainable params: 0\n",
            "_________________________________________________________________\n"
          ],
          "name": "stdout"
        }
      ]
    },
    {
      "cell_type": "code",
      "metadata": {
        "id": "cm6zXPdssfrB"
      },
      "source": [
        "# Compile the model\n",
        "model2.compile(\n",
        "    loss=\"sparse_categorical_crossentropy\",\n",
        "    optimizer=\"sgd\",\n",
        "    metrics=[\"accuracy\"]\n",
        ")"
      ],
      "execution_count": 23,
      "outputs": []
    },
    {
      "cell_type": "code",
      "metadata": {
        "id": "yepqzifHsl-S",
        "outputId": "574e31fd-9c63-4b37-a20c-ba3a454d7613",
        "colab": {
          "base_uri": "https://localhost:8080/",
          "height": 1000
        }
      },
      "source": [
        "history2 = model2.fit(X, Y, epochs=120, validation_split=0.2)"
      ],
      "execution_count": 27,
      "outputs": [
        {
          "output_type": "stream",
          "text": [
            "Epoch 1/120\n",
            "99/99 [==============================] - 0s 989us/step - loss: 2.2059 - accuracy: 0.1020 - val_loss: 4.9782 - val_accuracy: 0.0000e+00\n",
            "Epoch 2/120\n",
            "99/99 [==============================] - 0s 770us/step - loss: 2.2059 - accuracy: 0.1013 - val_loss: 4.9839 - val_accuracy: 0.0000e+00\n",
            "Epoch 3/120\n",
            "99/99 [==============================] - 0s 766us/step - loss: 2.2058 - accuracy: 0.1023 - val_loss: 4.9897 - val_accuracy: 0.0000e+00\n",
            "Epoch 4/120\n",
            "99/99 [==============================] - 0s 768us/step - loss: 2.2057 - accuracy: 0.1013 - val_loss: 4.9953 - val_accuracy: 0.0000e+00\n",
            "Epoch 5/120\n",
            "99/99 [==============================] - 0s 786us/step - loss: 2.2057 - accuracy: 0.1067 - val_loss: 5.0010 - val_accuracy: 0.0000e+00\n",
            "Epoch 6/120\n",
            "99/99 [==============================] - 0s 763us/step - loss: 2.2056 - accuracy: 0.1016 - val_loss: 5.0066 - val_accuracy: 0.0000e+00\n",
            "Epoch 7/120\n",
            "99/99 [==============================] - 0s 792us/step - loss: 2.2055 - accuracy: 0.1054 - val_loss: 5.0122 - val_accuracy: 0.0000e+00\n",
            "Epoch 8/120\n",
            "99/99 [==============================] - 0s 755us/step - loss: 2.2055 - accuracy: 0.1029 - val_loss: 5.0178 - val_accuracy: 0.0000e+00\n",
            "Epoch 9/120\n",
            "99/99 [==============================] - 0s 752us/step - loss: 2.2054 - accuracy: 0.1029 - val_loss: 5.0233 - val_accuracy: 0.0000e+00\n",
            "Epoch 10/120\n",
            "99/99 [==============================] - 0s 771us/step - loss: 2.2053 - accuracy: 0.0991 - val_loss: 5.0288 - val_accuracy: 0.0000e+00\n",
            "Epoch 11/120\n",
            "99/99 [==============================] - 0s 753us/step - loss: 2.2053 - accuracy: 0.1013 - val_loss: 5.0343 - val_accuracy: 0.0000e+00\n",
            "Epoch 12/120\n",
            "99/99 [==============================] - 0s 810us/step - loss: 2.2052 - accuracy: 0.1083 - val_loss: 5.0397 - val_accuracy: 0.0000e+00\n",
            "Epoch 13/120\n",
            "99/99 [==============================] - 0s 744us/step - loss: 2.2051 - accuracy: 0.1054 - val_loss: 5.0451 - val_accuracy: 0.0000e+00\n",
            "Epoch 14/120\n",
            "99/99 [==============================] - 0s 757us/step - loss: 2.2051 - accuracy: 0.1098 - val_loss: 5.0504 - val_accuracy: 0.0000e+00\n",
            "Epoch 15/120\n",
            "99/99 [==============================] - 0s 792us/step - loss: 2.2050 - accuracy: 0.1032 - val_loss: 5.0558 - val_accuracy: 0.0000e+00\n",
            "Epoch 16/120\n",
            "99/99 [==============================] - 0s 756us/step - loss: 2.2050 - accuracy: 0.1029 - val_loss: 5.0610 - val_accuracy: 0.0000e+00\n",
            "Epoch 17/120\n",
            "99/99 [==============================] - 0s 751us/step - loss: 2.2049 - accuracy: 0.1073 - val_loss: 5.0663 - val_accuracy: 0.0000e+00\n",
            "Epoch 18/120\n",
            "99/99 [==============================] - 0s 787us/step - loss: 2.2049 - accuracy: 0.0953 - val_loss: 5.0716 - val_accuracy: 0.0000e+00\n",
            "Epoch 19/120\n",
            "99/99 [==============================] - 0s 735us/step - loss: 2.2048 - accuracy: 0.1095 - val_loss: 5.0768 - val_accuracy: 0.0000e+00\n",
            "Epoch 20/120\n",
            "99/99 [==============================] - 0s 791us/step - loss: 2.2048 - accuracy: 0.1048 - val_loss: 5.0820 - val_accuracy: 0.0000e+00\n",
            "Epoch 21/120\n",
            "99/99 [==============================] - 0s 760us/step - loss: 2.2047 - accuracy: 0.1064 - val_loss: 5.0872 - val_accuracy: 0.0000e+00\n",
            "Epoch 22/120\n",
            "99/99 [==============================] - 0s 774us/step - loss: 2.2046 - accuracy: 0.1039 - val_loss: 5.0923 - val_accuracy: 0.0000e+00\n",
            "Epoch 23/120\n",
            "99/99 [==============================] - 0s 747us/step - loss: 2.2046 - accuracy: 0.0966 - val_loss: 5.0974 - val_accuracy: 0.0000e+00\n",
            "Epoch 24/120\n",
            "99/99 [==============================] - 0s 749us/step - loss: 2.2045 - accuracy: 0.1080 - val_loss: 5.1025 - val_accuracy: 0.0000e+00\n",
            "Epoch 25/120\n",
            "99/99 [==============================] - 0s 791us/step - loss: 2.2045 - accuracy: 0.1098 - val_loss: 5.1075 - val_accuracy: 0.0000e+00\n",
            "Epoch 26/120\n",
            "99/99 [==============================] - 0s 752us/step - loss: 2.2044 - accuracy: 0.0997 - val_loss: 5.1125 - val_accuracy: 0.0000e+00\n",
            "Epoch 27/120\n",
            "99/99 [==============================] - 0s 764us/step - loss: 2.2044 - accuracy: 0.1020 - val_loss: 5.1175 - val_accuracy: 0.0000e+00\n",
            "Epoch 28/120\n",
            "99/99 [==============================] - 0s 770us/step - loss: 2.2043 - accuracy: 0.1042 - val_loss: 5.1225 - val_accuracy: 0.0000e+00\n",
            "Epoch 29/120\n",
            "99/99 [==============================] - 0s 728us/step - loss: 2.2043 - accuracy: 0.1039 - val_loss: 5.1274 - val_accuracy: 0.0000e+00\n",
            "Epoch 30/120\n",
            "99/99 [==============================] - 0s 741us/step - loss: 2.2042 - accuracy: 0.1061 - val_loss: 5.1323 - val_accuracy: 0.0000e+00\n",
            "Epoch 31/120\n",
            "99/99 [==============================] - 0s 802us/step - loss: 2.2042 - accuracy: 0.1013 - val_loss: 5.1372 - val_accuracy: 0.0000e+00\n",
            "Epoch 32/120\n",
            "99/99 [==============================] - 0s 848us/step - loss: 2.2041 - accuracy: 0.1067 - val_loss: 5.1421 - val_accuracy: 0.0000e+00\n",
            "Epoch 33/120\n",
            "99/99 [==============================] - 0s 783us/step - loss: 2.2041 - accuracy: 0.1098 - val_loss: 5.1469 - val_accuracy: 0.0000e+00\n",
            "Epoch 34/120\n",
            "99/99 [==============================] - 0s 782us/step - loss: 2.2040 - accuracy: 0.0982 - val_loss: 5.1517 - val_accuracy: 0.0000e+00\n",
            "Epoch 35/120\n",
            "99/99 [==============================] - 0s 814us/step - loss: 2.2040 - accuracy: 0.1045 - val_loss: 5.1565 - val_accuracy: 0.0000e+00\n",
            "Epoch 36/120\n",
            "99/99 [==============================] - 0s 780us/step - loss: 2.2039 - accuracy: 0.1020 - val_loss: 5.1612 - val_accuracy: 0.0000e+00\n",
            "Epoch 37/120\n",
            "99/99 [==============================] - 0s 747us/step - loss: 2.2039 - accuracy: 0.1067 - val_loss: 5.1660 - val_accuracy: 0.0000e+00\n",
            "Epoch 38/120\n",
            "99/99 [==============================] - 0s 750us/step - loss: 2.2038 - accuracy: 0.1057 - val_loss: 5.1707 - val_accuracy: 0.0000e+00\n",
            "Epoch 39/120\n",
            "99/99 [==============================] - 0s 776us/step - loss: 2.2038 - accuracy: 0.1004 - val_loss: 5.1754 - val_accuracy: 0.0000e+00\n",
            "Epoch 40/120\n",
            "99/99 [==============================] - 0s 793us/step - loss: 2.2038 - accuracy: 0.1026 - val_loss: 5.1800 - val_accuracy: 0.0000e+00\n",
            "Epoch 41/120\n",
            "99/99 [==============================] - 0s 792us/step - loss: 2.2037 - accuracy: 0.1016 - val_loss: 5.1846 - val_accuracy: 0.0000e+00\n",
            "Epoch 42/120\n",
            "99/99 [==============================] - 0s 747us/step - loss: 2.2037 - accuracy: 0.0972 - val_loss: 5.1893 - val_accuracy: 0.0000e+00\n",
            "Epoch 43/120\n",
            "99/99 [==============================] - 0s 754us/step - loss: 2.2036 - accuracy: 0.1080 - val_loss: 5.1938 - val_accuracy: 0.0000e+00\n",
            "Epoch 44/120\n",
            "99/99 [==============================] - 0s 801us/step - loss: 2.2036 - accuracy: 0.1010 - val_loss: 5.1984 - val_accuracy: 0.0000e+00\n",
            "Epoch 45/120\n",
            "99/99 [==============================] - 0s 845us/step - loss: 2.2035 - accuracy: 0.1080 - val_loss: 5.2030 - val_accuracy: 0.0000e+00\n",
            "Epoch 46/120\n",
            "99/99 [==============================] - 0s 830us/step - loss: 2.2035 - accuracy: 0.0982 - val_loss: 5.2075 - val_accuracy: 0.0000e+00\n",
            "Epoch 47/120\n",
            "99/99 [==============================] - 0s 825us/step - loss: 2.2035 - accuracy: 0.1020 - val_loss: 5.2120 - val_accuracy: 0.0000e+00\n",
            "Epoch 48/120\n",
            "99/99 [==============================] - 0s 708us/step - loss: 2.2034 - accuracy: 0.0969 - val_loss: 5.2165 - val_accuracy: 0.0000e+00\n",
            "Epoch 49/120\n",
            "99/99 [==============================] - 0s 766us/step - loss: 2.2034 - accuracy: 0.1020 - val_loss: 5.2209 - val_accuracy: 0.0000e+00\n",
            "Epoch 50/120\n",
            "99/99 [==============================] - 0s 775us/step - loss: 2.2033 - accuracy: 0.0997 - val_loss: 5.2254 - val_accuracy: 0.0000e+00\n",
            "Epoch 51/120\n",
            "99/99 [==============================] - 0s 745us/step - loss: 2.2033 - accuracy: 0.1013 - val_loss: 5.2298 - val_accuracy: 0.0000e+00\n",
            "Epoch 52/120\n",
            "99/99 [==============================] - 0s 764us/step - loss: 2.2033 - accuracy: 0.1051 - val_loss: 5.2342 - val_accuracy: 0.0000e+00\n",
            "Epoch 53/120\n",
            "99/99 [==============================] - 0s 784us/step - loss: 2.2032 - accuracy: 0.0988 - val_loss: 5.2386 - val_accuracy: 0.0000e+00\n",
            "Epoch 54/120\n",
            "99/99 [==============================] - 0s 773us/step - loss: 2.2032 - accuracy: 0.1026 - val_loss: 5.2429 - val_accuracy: 0.0000e+00\n",
            "Epoch 55/120\n",
            "99/99 [==============================] - 0s 749us/step - loss: 2.2031 - accuracy: 0.1054 - val_loss: 5.2472 - val_accuracy: 0.0000e+00\n",
            "Epoch 56/120\n",
            "99/99 [==============================] - 0s 804us/step - loss: 2.2031 - accuracy: 0.1010 - val_loss: 5.2516 - val_accuracy: 0.0000e+00\n",
            "Epoch 57/120\n",
            "99/99 [==============================] - 0s 854us/step - loss: 2.2031 - accuracy: 0.1057 - val_loss: 5.2559 - val_accuracy: 0.0000e+00\n",
            "Epoch 58/120\n",
            "99/99 [==============================] - 0s 816us/step - loss: 2.2030 - accuracy: 0.1029 - val_loss: 5.2601 - val_accuracy: 0.0000e+00\n",
            "Epoch 59/120\n",
            "99/99 [==============================] - 0s 758us/step - loss: 2.2030 - accuracy: 0.1048 - val_loss: 5.2643 - val_accuracy: 0.0000e+00\n",
            "Epoch 60/120\n",
            "99/99 [==============================] - 0s 760us/step - loss: 2.2030 - accuracy: 0.1092 - val_loss: 5.2686 - val_accuracy: 0.0000e+00\n",
            "Epoch 61/120\n",
            "99/99 [==============================] - 0s 764us/step - loss: 2.2029 - accuracy: 0.1023 - val_loss: 5.2728 - val_accuracy: 0.0000e+00\n",
            "Epoch 62/120\n",
            "99/99 [==============================] - 0s 772us/step - loss: 2.2029 - accuracy: 0.1032 - val_loss: 5.2770 - val_accuracy: 0.0000e+00\n",
            "Epoch 63/120\n",
            "99/99 [==============================] - 0s 780us/step - loss: 2.2029 - accuracy: 0.1026 - val_loss: 5.2812 - val_accuracy: 0.0000e+00\n",
            "Epoch 64/120\n",
            "99/99 [==============================] - 0s 855us/step - loss: 2.2028 - accuracy: 0.1067 - val_loss: 5.2853 - val_accuracy: 0.0000e+00\n",
            "Epoch 65/120\n",
            "99/99 [==============================] - 0s 796us/step - loss: 2.2028 - accuracy: 0.1004 - val_loss: 5.2894 - val_accuracy: 0.0000e+00\n",
            "Epoch 66/120\n",
            "99/99 [==============================] - 0s 813us/step - loss: 2.2027 - accuracy: 0.1057 - val_loss: 5.2935 - val_accuracy: 0.0000e+00\n",
            "Epoch 67/120\n",
            "99/99 [==============================] - 0s 799us/step - loss: 2.2027 - accuracy: 0.0991 - val_loss: 5.2976 - val_accuracy: 0.0000e+00\n",
            "Epoch 68/120\n",
            "99/99 [==============================] - 0s 782us/step - loss: 2.2027 - accuracy: 0.1032 - val_loss: 5.3017 - val_accuracy: 0.0000e+00\n",
            "Epoch 69/120\n",
            "99/99 [==============================] - 0s 790us/step - loss: 2.2026 - accuracy: 0.1042 - val_loss: 5.3058 - val_accuracy: 0.0000e+00\n",
            "Epoch 70/120\n",
            "99/99 [==============================] - 0s 832us/step - loss: 2.2026 - accuracy: 0.1013 - val_loss: 5.3098 - val_accuracy: 0.0000e+00\n",
            "Epoch 71/120\n",
            "99/99 [==============================] - 0s 883us/step - loss: 2.2026 - accuracy: 0.1029 - val_loss: 5.3138 - val_accuracy: 0.0000e+00\n",
            "Epoch 72/120\n",
            "99/99 [==============================] - 0s 776us/step - loss: 2.2025 - accuracy: 0.1039 - val_loss: 5.3178 - val_accuracy: 0.0000e+00\n",
            "Epoch 73/120\n",
            "99/99 [==============================] - 0s 773us/step - loss: 2.2025 - accuracy: 0.1016 - val_loss: 5.3218 - val_accuracy: 0.0000e+00\n",
            "Epoch 74/120\n",
            "99/99 [==============================] - 0s 833us/step - loss: 2.2025 - accuracy: 0.0988 - val_loss: 5.3258 - val_accuracy: 0.0000e+00\n",
            "Epoch 75/120\n",
            "99/99 [==============================] - 0s 782us/step - loss: 2.2025 - accuracy: 0.1064 - val_loss: 5.3297 - val_accuracy: 0.0000e+00\n",
            "Epoch 76/120\n",
            "99/99 [==============================] - 0s 814us/step - loss: 2.2024 - accuracy: 0.0950 - val_loss: 5.3337 - val_accuracy: 0.0000e+00\n",
            "Epoch 77/120\n",
            "99/99 [==============================] - 0s 760us/step - loss: 2.2024 - accuracy: 0.0991 - val_loss: 5.3376 - val_accuracy: 0.0000e+00\n",
            "Epoch 78/120\n",
            "99/99 [==============================] - 0s 769us/step - loss: 2.2024 - accuracy: 0.1048 - val_loss: 5.3415 - val_accuracy: 0.0000e+00\n",
            "Epoch 79/120\n",
            "99/99 [==============================] - 0s 791us/step - loss: 2.2023 - accuracy: 0.0994 - val_loss: 5.3454 - val_accuracy: 0.0000e+00\n",
            "Epoch 80/120\n",
            "99/99 [==============================] - 0s 894us/step - loss: 2.2023 - accuracy: 0.1048 - val_loss: 5.3493 - val_accuracy: 0.0000e+00\n",
            "Epoch 81/120\n",
            "99/99 [==============================] - 0s 807us/step - loss: 2.2023 - accuracy: 0.0922 - val_loss: 5.3532 - val_accuracy: 0.0000e+00\n",
            "Epoch 82/120\n",
            "99/99 [==============================] - 0s 793us/step - loss: 2.2022 - accuracy: 0.1020 - val_loss: 5.3570 - val_accuracy: 0.0000e+00\n",
            "Epoch 83/120\n",
            "99/99 [==============================] - 0s 751us/step - loss: 2.2022 - accuracy: 0.0991 - val_loss: 5.3608 - val_accuracy: 0.0000e+00\n",
            "Epoch 84/120\n",
            "99/99 [==============================] - 0s 770us/step - loss: 2.2022 - accuracy: 0.0988 - val_loss: 5.3646 - val_accuracy: 0.0000e+00\n",
            "Epoch 85/120\n",
            "99/99 [==============================] - 0s 736us/step - loss: 2.2022 - accuracy: 0.0997 - val_loss: 5.3684 - val_accuracy: 0.0000e+00\n",
            "Epoch 86/120\n",
            "99/99 [==============================] - 0s 775us/step - loss: 2.2021 - accuracy: 0.1023 - val_loss: 5.3722 - val_accuracy: 0.0000e+00\n",
            "Epoch 87/120\n",
            "99/99 [==============================] - 0s 836us/step - loss: 2.2021 - accuracy: 0.1092 - val_loss: 5.3760 - val_accuracy: 0.0000e+00\n",
            "Epoch 88/120\n",
            "99/99 [==============================] - 0s 803us/step - loss: 2.2021 - accuracy: 0.0963 - val_loss: 5.3797 - val_accuracy: 0.0000e+00\n",
            "Epoch 89/120\n",
            "99/99 [==============================] - 0s 787us/step - loss: 2.2020 - accuracy: 0.1026 - val_loss: 5.3834 - val_accuracy: 0.0000e+00\n",
            "Epoch 90/120\n",
            "99/99 [==============================] - 0s 782us/step - loss: 2.2020 - accuracy: 0.0915 - val_loss: 5.3872 - val_accuracy: 0.0000e+00\n",
            "Epoch 91/120\n",
            "99/99 [==============================] - 0s 700us/step - loss: 2.2020 - accuracy: 0.1039 - val_loss: 5.3909 - val_accuracy: 0.0000e+00\n",
            "Epoch 92/120\n",
            "99/99 [==============================] - 0s 788us/step - loss: 2.2019 - accuracy: 0.0997 - val_loss: 5.3946 - val_accuracy: 0.0000e+00\n",
            "Epoch 93/120\n",
            "99/99 [==============================] - 0s 890us/step - loss: 2.2019 - accuracy: 0.1048 - val_loss: 5.3982 - val_accuracy: 0.0000e+00\n",
            "Epoch 94/120\n",
            "99/99 [==============================] - 0s 758us/step - loss: 2.2019 - accuracy: 0.1032 - val_loss: 5.4018 - val_accuracy: 0.0000e+00\n",
            "Epoch 95/120\n",
            "99/99 [==============================] - 0s 747us/step - loss: 2.2019 - accuracy: 0.1035 - val_loss: 5.4055 - val_accuracy: 0.0000e+00\n",
            "Epoch 96/120\n",
            "99/99 [==============================] - 0s 816us/step - loss: 2.2018 - accuracy: 0.1007 - val_loss: 5.4091 - val_accuracy: 0.0000e+00\n",
            "Epoch 97/120\n",
            "99/99 [==============================] - 0s 748us/step - loss: 2.2018 - accuracy: 0.0963 - val_loss: 5.4127 - val_accuracy: 0.0000e+00\n",
            "Epoch 98/120\n",
            "99/99 [==============================] - 0s 888us/step - loss: 2.2018 - accuracy: 0.0972 - val_loss: 5.4163 - val_accuracy: 0.0000e+00\n",
            "Epoch 99/120\n",
            "99/99 [==============================] - 0s 925us/step - loss: 2.2018 - accuracy: 0.1020 - val_loss: 5.4199 - val_accuracy: 0.0000e+00\n",
            "Epoch 100/120\n",
            "99/99 [==============================] - 0s 799us/step - loss: 2.2017 - accuracy: 0.1023 - val_loss: 5.4235 - val_accuracy: 0.0000e+00\n",
            "Epoch 101/120\n",
            "99/99 [==============================] - 0s 740us/step - loss: 2.2017 - accuracy: 0.1026 - val_loss: 5.4271 - val_accuracy: 0.0000e+00\n",
            "Epoch 102/120\n",
            "99/99 [==============================] - 0s 766us/step - loss: 2.2017 - accuracy: 0.1026 - val_loss: 5.4306 - val_accuracy: 0.0000e+00\n",
            "Epoch 103/120\n",
            "99/99 [==============================] - 0s 793us/step - loss: 2.2017 - accuracy: 0.0988 - val_loss: 5.4341 - val_accuracy: 0.0000e+00\n",
            "Epoch 104/120\n",
            "99/99 [==============================] - 0s 813us/step - loss: 2.2016 - accuracy: 0.1020 - val_loss: 5.4376 - val_accuracy: 0.0000e+00\n",
            "Epoch 105/120\n",
            "99/99 [==============================] - 0s 826us/step - loss: 2.2016 - accuracy: 0.0956 - val_loss: 5.4411 - val_accuracy: 0.0000e+00\n",
            "Epoch 106/120\n",
            "99/99 [==============================] - 0s 788us/step - loss: 2.2016 - accuracy: 0.0972 - val_loss: 5.4446 - val_accuracy: 0.0000e+00\n",
            "Epoch 107/120\n",
            "99/99 [==============================] - 0s 772us/step - loss: 2.2016 - accuracy: 0.1020 - val_loss: 5.4480 - val_accuracy: 0.0000e+00\n",
            "Epoch 108/120\n",
            "99/99 [==============================] - 0s 815us/step - loss: 2.2015 - accuracy: 0.1057 - val_loss: 5.4515 - val_accuracy: 0.0000e+00\n",
            "Epoch 109/120\n",
            "99/99 [==============================] - 0s 873us/step - loss: 2.2015 - accuracy: 0.1032 - val_loss: 5.4549 - val_accuracy: 0.0000e+00\n",
            "Epoch 110/120\n",
            "99/99 [==============================] - 0s 776us/step - loss: 2.2015 - accuracy: 0.1054 - val_loss: 5.4584 - val_accuracy: 0.0000e+00\n",
            "Epoch 111/120\n",
            "99/99 [==============================] - 0s 765us/step - loss: 2.2015 - accuracy: 0.1023 - val_loss: 5.4618 - val_accuracy: 0.0000e+00\n",
            "Epoch 112/120\n",
            "99/99 [==============================] - 0s 762us/step - loss: 2.2014 - accuracy: 0.1020 - val_loss: 5.4652 - val_accuracy: 0.0000e+00\n",
            "Epoch 113/120\n",
            "99/99 [==============================] - 0s 831us/step - loss: 2.2014 - accuracy: 0.1042 - val_loss: 5.4686 - val_accuracy: 0.0000e+00\n",
            "Epoch 114/120\n",
            "99/99 [==============================] - 0s 828us/step - loss: 2.2014 - accuracy: 0.1001 - val_loss: 5.4720 - val_accuracy: 0.0000e+00\n",
            "Epoch 115/120\n",
            "99/99 [==============================] - 0s 816us/step - loss: 2.2014 - accuracy: 0.1070 - val_loss: 5.4754 - val_accuracy: 0.0000e+00\n",
            "Epoch 116/120\n",
            "99/99 [==============================] - 0s 771us/step - loss: 2.2013 - accuracy: 0.1070 - val_loss: 5.4787 - val_accuracy: 0.0000e+00\n",
            "Epoch 117/120\n",
            "99/99 [==============================] - 0s 788us/step - loss: 2.2013 - accuracy: 0.0994 - val_loss: 5.4821 - val_accuracy: 0.0000e+00\n",
            "Epoch 118/120\n",
            "99/99 [==============================] - 0s 858us/step - loss: 2.2013 - accuracy: 0.1042 - val_loss: 5.4854 - val_accuracy: 0.0000e+00\n",
            "Epoch 119/120\n",
            "99/99 [==============================] - 0s 786us/step - loss: 2.2013 - accuracy: 0.1045 - val_loss: 5.4887 - val_accuracy: 0.0000e+00\n",
            "Epoch 120/120\n",
            "99/99 [==============================] - 0s 774us/step - loss: 2.2013 - accuracy: 0.1039 - val_loss: 5.4920 - val_accuracy: 0.0000e+00\n"
          ],
          "name": "stdout"
        }
      ]
    },
    {
      "cell_type": "code",
      "metadata": {
        "id": "DlR-ZvxotBn4",
        "outputId": "0d645af9-e8a0-4c90-c425-23994827fa1e",
        "colab": {
          "base_uri": "https://localhost:8080/",
          "height": 577
        }
      },
      "source": [
        "loss_curve = history2.history[\"loss\"]\n",
        "acc_curve = history2.history[\"accuracy\"]\n",
        "\n",
        "loss_val_curve = history2.history[\"val_loss\"]\n",
        "acc_val_curve = history2.history[\"val_accuracy\"]\n",
        "\n",
        "plt.plot(loss_curve, label=\"Train\")\n",
        "plt.plot(loss_val_curve, label=\"Val\")\n",
        "plt.legend(loc='upper left')\n",
        "plt.title(\"Loss\")\n",
        "plt.show()\n",
        "\n",
        "plt.plot(acc_curve, label=\"Train\")\n",
        "plt.plot(acc_val_curve, label=\"Val\")\n",
        "plt.legend(loc='upper left')\n",
        "plt.title(\"Accuracy\")\n",
        "plt.show()"
      ],
      "execution_count": 28,
      "outputs": [
        {
          "output_type": "display_data",
          "data": {
            "image/png": "[encoded data removed]",
            "text/plain": [
              "<Figure size 432x288 with 1 Axes>"
            ]
          },
          "metadata": {
            "tags": []
          }
        },
        {
          "output_type": "display_data",
          "data": {
            "image/png": "[encoded data removed]",
            "text/plain": [
              "<Figure size 432x288 with 1 Axes>"
            ]
          },
          "metadata": {
            "tags": []
          }
        }
      ]
    }
  ]
}