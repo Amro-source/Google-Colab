{
  "nbformat": 4,
  "nbformat_minor": 0,
  "metadata": {
    "colab": {
      "name": "TigersDetection.ipynb",
      "provenance": [],
      "collapsed_sections": [],
      "authorship_tag": "ABX9TyPpiNO3+TjHch1Kmcd0ZIAT",
      "include_colab_link": true
    },
    "kernelspec": {
      "display_name": "Python 3",
      "name": "python3"
    }
  },
  "cells": [
    {
      "cell_type": "markdown",
      "metadata": {
        "id": "view-in-github",
        "colab_type": "text"
      },
      "source": [
        "<a href=\"https://colab.research.google.com/github/Amro-source/Google-Colab/blob/main/TigersDetection.ipynb\" target=\"_parent\"><img src=\"https://colab.research.google.com/assets/colab-badge.svg\" alt=\"Open In Colab\"/></a>"
      ]
    },
    {
      "cell_type": "code",
      "metadata": {
        "colab": {
          "background_save": true
        },
        "id": "wLPJMsdZl0uW"
      },
      "source": [
        "import pandas as pd\r\n",
        "url = 'https://storage.googleapis.com/openimages/v6/oidv6-train-annotations-bbox.csv'\r\n",
        "df1 = pd.read_csv(url)\r\n",
        "df1.head()\r\n",
        "\r\n"
      ],
      "execution_count": null,
      "outputs": []
    },
    {
      "cell_type": "code",
      "metadata": {
        "colab": {
          "base_uri": "https://localhost:8080/"
        },
        "id": "P0F4mJjhQrj2",
        "outputId": "cbbdb031-c116-4482-fae6-0b873076ab42"
      },
      "source": [
        "A=df1\r\n",
        "\r\n",
        "s = df1['ImageID']\r\n",
        "#s=df1.loc(0)\r\n",
        "\r\n",
        "s.head()\r\n"
      ],
      "execution_count": null,
      "outputs": [
        {
          "output_type": "execute_result",
          "data": {
            "text/plain": [
              "0    000002b66c9c498e\n",
              "1    000002b66c9c498e\n",
              "2    000002b66c9c498e\n",
              "3    000002b66c9c498e\n",
              "4    000002b66c9c498e\n",
              "Name: ImageID, dtype: object"
            ]
          },
          "metadata": {
            "tags": []
          },
          "execution_count": 4
        }
      ]
    },
    {
      "cell_type": "code",
      "metadata": {
        "colab": {
          "background_save": true
        },
        "id": "cFHGWsAISdVQ"
      },
      "source": [
        "s2=df1.loc(0)\r\n",
        "\r\n",
        "S3=df1.loc(:)"
      ],
      "execution_count": null,
      "outputs": []
    },
    {
      "cell_type": "code",
      "metadata": {
        "id": "QdEhc90JZdx1",
        "colab": {
          "base_uri": "https://localhost:8080/"
        },
        "outputId": "b991485c-1107-40d4-af18-29b3a8411ec2"
      },
      "source": [
        "import pathlib\r\n",
        "dataset_url = \"https://storage.googleapis.com/download.tensorflow.org/example_images/flower_photos.tgz\"\r\n",
        "data_dir = tf.keras.utils.get_file('flower_photos', origin=dataset_url, untar=True)\r\n",
        "data_dir = pathlib.Path(data_dir)\r\n",
        "\r\n",
        "\r\n"
      ],
      "execution_count": null,
      "outputs": [
        {
          "output_type": "stream",
          "text": [
            "Downloading data from https://storage.googleapis.com/download.tensorflow.org/example_images/flower_photos.tgz\n",
            "228818944/228813984 [==============================] - 1s 0us/step\n"
          ],
          "name": "stdout"
        }
      ]
    },
    {
      "cell_type": "code",
      "metadata": {
        "id": "YdW-lrjNdEYr"
      },
      "source": [
        "# Import PyDrive and associated libraries.\n",
        "# This only needs to be done once per notebook.\n",
        "from pydrive.auth import GoogleAuth\n",
        "from pydrive.drive import GoogleDrive\n",
        "from google.colab import auth\n",
        "from oauth2client.client import GoogleCredentials\n",
        "\n",
        "# Authenticate and create the PyDrive client.\n",
        "# This only needs to be done once per notebook.\n",
        "auth.authenticate_user()\n",
        "gauth = GoogleAuth()\n",
        "gauth.credentials = GoogleCredentials.get_application_default()\n",
        "drive = GoogleDrive(gauth)\n",
        "\n",
        "# Download a file based on its file ID.\n",
        "#\n",
        "# A file ID looks like: laggVyWshwcyP6kEI-y_W3P8D26sz\n",
        "file_id = 'REPLACE_WITH_YOUR_FILE_ID'\n",
        "downloaded = drive.CreateFile({'id': file_id})\n",
        "print('Downloaded content \"{}\"'.format(downloaded.GetContentString()))"
      ],
      "execution_count": null,
      "outputs": []
    },
    {
      "cell_type": "code",
      "metadata": {
        "id": "JEKVEJXKZi1c",
        "colab": {
          "base_uri": "https://localhost:8080/"
        },
        "outputId": "8298bfb9-0860-404c-fe05-a0eab856fddd"
      },
      "source": [
        "import matplotlib.pyplot as plt\r\n",
        "import numpy as np\r\n",
        "import os\r\n",
        "import PIL\r\n",
        "import tensorflow as tf\r\n",
        "\r\n",
        "from tensorflow import keras\r\n",
        "from tensorflow.keras import layers\r\n",
        "from tensorflow.keras.models import Sequential\r\n",
        "\r\n",
        "import pathlib\r\n",
        "dataset_url = \"http://images.cocodataset.org/zips/train2014.zip\"\r\n",
        "data_dir = tf.keras.utils.get_file('coco', origin=dataset_url, untar=True)\r\n",
        "data_dir = pathlib.Path(data_dir)"
      ],
      "execution_count": null,
      "outputs": [
        {
          "output_type": "stream",
          "text": [
            "Downloading data from http://images.cocodataset.org/zips/train2014.zip\n",
            "13510574080/13510573713 [==============================] - 248s 0us/step\n"
          ],
          "name": "stdout"
        }
      ]
    },
    {
      "cell_type": "code",
      "metadata": {
        "id": "w-5QMLy1fVdG",
        "colab": {
          "base_uri": "https://localhost:8080/"
        },
        "outputId": "4c8eb871-ed4f-4835-c9fa-e6b929465be5"
      },
      "source": [
        "image_count = len(list(data_dir.glob('*/*.jpg')))\r\n",
        "print(image_count)"
      ],
      "execution_count": null,
      "outputs": [
        {
          "output_type": "stream",
          "text": [
            "3670\n"
          ],
          "name": "stdout"
        }
      ]
    }
  ]
}